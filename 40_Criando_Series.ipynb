{
 "cells": [
  {
   "cell_type": "code",
   "execution_count": 1,
   "id": "795b2e05",
   "metadata": {},
   "outputs": [],
   "source": [
    "import pandas as pd"
   ]
  },
  {
   "cell_type": "code",
   "execution_count": 2,
   "id": "412fb78b",
   "metadata": {},
   "outputs": [],
   "source": [
    "df = pd.read_csv(\"campeonato-brasileiro-full.csv\")"
   ]
  },
  {
   "cell_type": "code",
   "execution_count": 3,
   "id": "0b0841e4",
   "metadata": {},
   "outputs": [
    {
     "data": {
      "text/html": [
       "<div>\n",
       "<style scoped>\n",
       "    .dataframe tbody tr th:only-of-type {\n",
       "        vertical-align: middle;\n",
       "    }\n",
       "\n",
       "    .dataframe tbody tr th {\n",
       "        vertical-align: top;\n",
       "    }\n",
       "\n",
       "    .dataframe thead th {\n",
       "        text-align: right;\n",
       "    }\n",
       "</style>\n",
       "<table border=\"1\" class=\"dataframe\">\n",
       "  <thead>\n",
       "    <tr style=\"text-align: right;\">\n",
       "      <th></th>\n",
       "      <th>ID</th>\n",
       "      <th>Rodada</th>\n",
       "      <th>Data</th>\n",
       "      <th>Horário</th>\n",
       "      <th>Dia</th>\n",
       "      <th>Mandante</th>\n",
       "      <th>Visitante</th>\n",
       "      <th>Vencedor</th>\n",
       "      <th>Arena</th>\n",
       "      <th>Mandante Placar</th>\n",
       "      <th>Visitante Placar</th>\n",
       "      <th>Estado Mandante</th>\n",
       "      <th>Estado Visitante</th>\n",
       "      <th>Estado Vencedor</th>\n",
       "    </tr>\n",
       "  </thead>\n",
       "  <tbody>\n",
       "    <tr>\n",
       "      <th>0</th>\n",
       "      <td>1</td>\n",
       "      <td>1</td>\n",
       "      <td>2000-07-29</td>\n",
       "      <td>16h00</td>\n",
       "      <td>Sábado</td>\n",
       "      <td>Fluminense</td>\n",
       "      <td>Bahia</td>\n",
       "      <td>Fluminense</td>\n",
       "      <td>Maracanã</td>\n",
       "      <td>2</td>\n",
       "      <td>0</td>\n",
       "      <td>RJ</td>\n",
       "      <td>BA</td>\n",
       "      <td>RJ</td>\n",
       "    </tr>\n",
       "    <tr>\n",
       "      <th>1</th>\n",
       "      <td>2</td>\n",
       "      <td>1</td>\n",
       "      <td>2000-07-29</td>\n",
       "      <td>16h00</td>\n",
       "      <td>Sábado</td>\n",
       "      <td>Vasco</td>\n",
       "      <td>Sport</td>\n",
       "      <td>Sport</td>\n",
       "      <td>São Januário</td>\n",
       "      <td>0</td>\n",
       "      <td>2</td>\n",
       "      <td>RJ</td>\n",
       "      <td>PE</td>\n",
       "      <td>PE</td>\n",
       "    </tr>\n",
       "    <tr>\n",
       "      <th>2</th>\n",
       "      <td>3</td>\n",
       "      <td>1</td>\n",
       "      <td>2000-07-29</td>\n",
       "      <td>16h00</td>\n",
       "      <td>Sábado</td>\n",
       "      <td>Vitória</td>\n",
       "      <td>Palmeiras</td>\n",
       "      <td>Vitória</td>\n",
       "      <td>Barradão</td>\n",
       "      <td>4</td>\n",
       "      <td>1</td>\n",
       "      <td>ES</td>\n",
       "      <td>SP</td>\n",
       "      <td>ES</td>\n",
       "    </tr>\n",
       "    <tr>\n",
       "      <th>3</th>\n",
       "      <td>4</td>\n",
       "      <td>1</td>\n",
       "      <td>2000-07-30</td>\n",
       "      <td>17h00</td>\n",
       "      <td>Domingo</td>\n",
       "      <td>Botafogo-RJ</td>\n",
       "      <td>Atlético-MG</td>\n",
       "      <td>-</td>\n",
       "      <td>Caio Martins</td>\n",
       "      <td>0</td>\n",
       "      <td>0</td>\n",
       "      <td>RJ</td>\n",
       "      <td>MG</td>\n",
       "      <td>-</td>\n",
       "    </tr>\n",
       "    <tr>\n",
       "      <th>4</th>\n",
       "      <td>5</td>\n",
       "      <td>1</td>\n",
       "      <td>2000-07-30</td>\n",
       "      <td>18h30</td>\n",
       "      <td>Domingo</td>\n",
       "      <td>Juventude</td>\n",
       "      <td>Flamengo</td>\n",
       "      <td>-</td>\n",
       "      <td>Alfredo Jaconi</td>\n",
       "      <td>1</td>\n",
       "      <td>1</td>\n",
       "      <td>RS</td>\n",
       "      <td>RJ</td>\n",
       "      <td>-</td>\n",
       "    </tr>\n",
       "  </tbody>\n",
       "</table>\n",
       "</div>"
      ],
      "text/plain": [
       "   ID Rodada        Data Horário      Dia     Mandante    Visitante  \\\n",
       "0   1      1  2000-07-29   16h00   Sábado   Fluminense        Bahia   \n",
       "1   2      1  2000-07-29   16h00   Sábado        Vasco        Sport   \n",
       "2   3      1  2000-07-29   16h00   Sábado      Vitória    Palmeiras   \n",
       "3   4      1  2000-07-30   17h00  Domingo  Botafogo-RJ  Atlético-MG   \n",
       "4   5      1  2000-07-30   18h30  Domingo    Juventude     Flamengo   \n",
       "\n",
       "     Vencedor           Arena  Mandante Placar  Visitante Placar  \\\n",
       "0  Fluminense        Maracanã                2                 0   \n",
       "1       Sport    São Januário                0                 2   \n",
       "2     Vitória        Barradão                4                 1   \n",
       "3           -    Caio Martins                0                 0   \n",
       "4           -  Alfredo Jaconi                1                 1   \n",
       "\n",
       "  Estado Mandante Estado Visitante Estado Vencedor  \n",
       "0              RJ               BA              RJ  \n",
       "1              RJ               PE              PE  \n",
       "2              ES               SP              ES  \n",
       "3              RJ               MG               -  \n",
       "4              RS               RJ               -  "
      ]
     },
     "execution_count": 3,
     "metadata": {},
     "output_type": "execute_result"
    }
   ],
   "source": [
    "df.head()"
   ]
  },
  {
   "cell_type": "code",
   "execution_count": 5,
   "id": "693b1555",
   "metadata": {},
   "outputs": [],
   "source": [
    "dia_jogo = df[\"Dia\"]"
   ]
  },
  {
   "cell_type": "code",
   "execution_count": 6,
   "id": "3d4db946",
   "metadata": {},
   "outputs": [],
   "source": [
    "df_2 = pd.read_csv(\"horas_estudadas.csv\")"
   ]
  },
  {
   "cell_type": "code",
   "execution_count": 7,
   "id": "9c0489bc",
   "metadata": {},
   "outputs": [
    {
     "data": {
      "text/html": [
       "<div>\n",
       "<style scoped>\n",
       "    .dataframe tbody tr th:only-of-type {\n",
       "        vertical-align: middle;\n",
       "    }\n",
       "\n",
       "    .dataframe tbody tr th {\n",
       "        vertical-align: top;\n",
       "    }\n",
       "\n",
       "    .dataframe thead th {\n",
       "        text-align: right;\n",
       "    }\n",
       "</style>\n",
       "<table border=\"1\" class=\"dataframe\">\n",
       "  <thead>\n",
       "    <tr style=\"text-align: right;\">\n",
       "      <th></th>\n",
       "      <th>Nome</th>\n",
       "      <th>Segunda</th>\n",
       "      <th>Terça</th>\n",
       "      <th>Quarta</th>\n",
       "      <th>Quinta</th>\n",
       "      <th>Sexta</th>\n",
       "      <th>Sabado</th>\n",
       "      <th>Domingo</th>\n",
       "    </tr>\n",
       "  </thead>\n",
       "  <tbody>\n",
       "    <tr>\n",
       "      <th>0</th>\n",
       "      <td>Victor</td>\n",
       "      <td>2</td>\n",
       "      <td>3</td>\n",
       "      <td>1</td>\n",
       "      <td>3</td>\n",
       "      <td>0</td>\n",
       "      <td>0</td>\n",
       "      <td>3</td>\n",
       "    </tr>\n",
       "    <tr>\n",
       "      <th>1</th>\n",
       "      <td>Amanda</td>\n",
       "      <td>0</td>\n",
       "      <td>3</td>\n",
       "      <td>0</td>\n",
       "      <td>4</td>\n",
       "      <td>3</td>\n",
       "      <td>1</td>\n",
       "      <td>2</td>\n",
       "    </tr>\n",
       "    <tr>\n",
       "      <th>2</th>\n",
       "      <td>Luis</td>\n",
       "      <td>1</td>\n",
       "      <td>2</td>\n",
       "      <td>4</td>\n",
       "      <td>5</td>\n",
       "      <td>6</td>\n",
       "      <td>0</td>\n",
       "      <td>0</td>\n",
       "    </tr>\n",
       "    <tr>\n",
       "      <th>3</th>\n",
       "      <td>Júlia</td>\n",
       "      <td>1</td>\n",
       "      <td>1</td>\n",
       "      <td>2</td>\n",
       "      <td>0</td>\n",
       "      <td>0</td>\n",
       "      <td>1</td>\n",
       "      <td>2</td>\n",
       "    </tr>\n",
       "  </tbody>\n",
       "</table>\n",
       "</div>"
      ],
      "text/plain": [
       "     Nome  Segunda  Terça  Quarta  Quinta  Sexta  Sabado  Domingo\n",
       "0  Victor        2      3       1       3      0       0        3\n",
       "1  Amanda        0      3       0       4      3       1        2\n",
       "2    Luis        1      2       4       5      6       0        0\n",
       "3   Júlia        1      1       2       0      0       1        2"
      ]
     },
     "execution_count": 7,
     "metadata": {},
     "output_type": "execute_result"
    }
   ],
   "source": [
    "df_2.head()"
   ]
  },
  {
   "cell_type": "code",
   "execution_count": 8,
   "id": "e6d29d49",
   "metadata": {},
   "outputs": [
    {
     "data": {
      "text/plain": [
       "pandas.core.frame.DataFrame"
      ]
     },
     "execution_count": 8,
     "metadata": {},
     "output_type": "execute_result"
    }
   ],
   "source": [
    "type(df_2)"
   ]
  },
  {
   "cell_type": "code",
   "execution_count": 13,
   "id": "3396d6b9",
   "metadata": {},
   "outputs": [],
   "source": [
    "import warnings\n",
    "warnings.filterwarnings('ignore')"
   ]
  },
  {
   "cell_type": "code",
   "execution_count": 14,
   "id": "a132a5e3",
   "metadata": {},
   "outputs": [],
   "source": [
    "# Selecionamos apenas Uma coluna. \n",
    "# O metodo Squeeze -> Se houver apenas Uma coluna ele faz com que retorne como uma Série\n",
    "df_3 = pd.read_csv(\"horas_estudadas.csv\", usecols=[\"Nome\"], squeeze=True)"
   ]
  },
  {
   "cell_type": "code",
   "execution_count": 12,
   "id": "5641fa90",
   "metadata": {},
   "outputs": [
    {
     "data": {
      "text/plain": [
       "pandas.core.series.Series"
      ]
     },
     "execution_count": 12,
     "metadata": {},
     "output_type": "execute_result"
    }
   ],
   "source": [
    "# Retorna Uma Serie\n",
    "type(df_3)"
   ]
  },
  {
   "cell_type": "code",
   "execution_count": 15,
   "id": "fcfefdb5",
   "metadata": {},
   "outputs": [
    {
     "data": {
      "text/plain": [
       "0    Victor\n",
       "1    Amanda\n",
       "2      Luis\n",
       "3     Júlia\n",
       "Name: Nome, dtype: object"
      ]
     },
     "execution_count": 15,
     "metadata": {},
     "output_type": "execute_result"
    }
   ],
   "source": [
    "# Temos apenas a coluna / Serie 'Nomes' :\n",
    "df_3.head()"
   ]
  },
  {
   "cell_type": "code",
   "execution_count": 16,
   "id": "7f2e97cc",
   "metadata": {},
   "outputs": [],
   "source": [
    "# Caso NÃO selecionemos apenas Uma coluna, será retornado Um DataFrame\n",
    "df_4 = pd.read_csv(\"horas_estudadas.csv\", squeeze=True)"
   ]
  },
  {
   "cell_type": "code",
   "execution_count": 17,
   "id": "2c6f45fa",
   "metadata": {},
   "outputs": [
    {
     "data": {
      "text/plain": [
       "pandas.core.frame.DataFrame"
      ]
     },
     "execution_count": 17,
     "metadata": {},
     "output_type": "execute_result"
    }
   ],
   "source": [
    "type(df_4)"
   ]
  },
  {
   "cell_type": "code",
   "execution_count": 18,
   "id": "bfa013f4",
   "metadata": {},
   "outputs": [],
   "source": [
    "# Lista\n",
    "a = [10,20,30,40]"
   ]
  },
  {
   "cell_type": "code",
   "execution_count": 22,
   "id": "2bede77e",
   "metadata": {},
   "outputs": [],
   "source": [
    "# Transformou uma Lista/Serie em uma Coluna:\n",
    "serie_a = pd.Series(data=a)"
   ]
  },
  {
   "cell_type": "code",
   "execution_count": 23,
   "id": "5122939e",
   "metadata": {},
   "outputs": [
    {
     "data": {
      "text/plain": [
       "0    10\n",
       "1    20\n",
       "2    30\n",
       "3    40\n",
       "dtype: int64"
      ]
     },
     "execution_count": 23,
     "metadata": {},
     "output_type": "execute_result"
    }
   ],
   "source": [
    "# Coluna com indice:\n",
    "serie_a.head()"
   ]
  },
  {
   "cell_type": "code",
   "execution_count": 24,
   "id": "b074b5bf",
   "metadata": {},
   "outputs": [
    {
     "data": {
      "text/plain": [
       "pandas.core.series.Series"
      ]
     },
     "execution_count": 24,
     "metadata": {},
     "output_type": "execute_result"
    }
   ],
   "source": [
    "type(serie_a)"
   ]
  },
  {
   "cell_type": "code",
   "execution_count": 27,
   "id": "02aa39ff",
   "metadata": {},
   "outputs": [
    {
     "data": {
      "text/plain": [
       "Segunda    1\n",
       "Terça      2\n",
       "Quarta     3\n",
       "Quinta     4\n",
       "Sexta      5\n",
       "Sabado     6\n",
       "Domingo    7\n",
       "Name: Dias Da Semana, dtype: int64"
      ]
     },
     "execution_count": 27,
     "metadata": {},
     "output_type": "execute_result"
    }
   ],
   "source": [
    "# Criando uma lista / Serie diretamente no método 'Series' do Pandas\n",
    "# Criamos um'index' com a mesma quantidade de elementos da Serie\n",
    "# 'Name' -> Da nome a série\n",
    "pd.Series([1,2,3,4,5,6,7], index=['Segunda','Terça','Quarta','Quinta',\n",
    "                                 'Sexta','Sabado','Domingo'], name='Dias Da Semana')"
   ]
  },
  {
   "cell_type": "code",
   "execution_count": 28,
   "id": "856b89e0",
   "metadata": {},
   "outputs": [],
   "source": [
    "# Com  Dicionarios\n",
    "# Desta maneira não é preciso Criar 'Index' :\n",
    "dicio = {'Domingo':1, 'Seg':2, 'Ter':3, 'Quarta':4,\n",
    "         'Quinta':5, 'Sexta':6, 'Sabado':7}"
   ]
  },
  {
   "cell_type": "code",
   "execution_count": 29,
   "id": "c15c2720",
   "metadata": {},
   "outputs": [],
   "source": [
    "dias_da_semana = pd.Series(dicio)"
   ]
  },
  {
   "cell_type": "code",
   "execution_count": 30,
   "id": "0b6eac6c",
   "metadata": {},
   "outputs": [
    {
     "data": {
      "text/plain": [
       "Domingo    1\n",
       "Seg        2\n",
       "Ter        3\n",
       "Quarta     4\n",
       "Quinta     5\n",
       "dtype: int64"
      ]
     },
     "execution_count": 30,
     "metadata": {},
     "output_type": "execute_result"
    }
   ],
   "source": [
    "dias_da_semana.head()"
   ]
  },
  {
   "cell_type": "code",
   "execution_count": 31,
   "id": "66c6c410",
   "metadata": {},
   "outputs": [
    {
     "data": {
      "text/plain": [
       "pandas.core.series.Series"
      ]
     },
     "execution_count": 31,
     "metadata": {},
     "output_type": "execute_result"
    }
   ],
   "source": [
    "type(dias_da_semana)"
   ]
  },
  {
   "cell_type": "code",
   "execution_count": null,
   "id": "7eab604f",
   "metadata": {},
   "outputs": [],
   "source": []
  }
 ],
 "metadata": {
  "kernelspec": {
   "display_name": "Python 3 (ipykernel)",
   "language": "python",
   "name": "python3"
  },
  "language_info": {
   "codemirror_mode": {
    "name": "ipython",
    "version": 3
   },
   "file_extension": ".py",
   "mimetype": "text/x-python",
   "name": "python",
   "nbconvert_exporter": "python",
   "pygments_lexer": "ipython3",
   "version": "3.9.12"
  }
 },
 "nbformat": 4,
 "nbformat_minor": 5
}
