{
  "nbformat": 4,
  "nbformat_minor": 0,
  "metadata": {
    "colab": {
      "provenance": []
    },
    "kernelspec": {
      "name": "python3",
      "display_name": "Python 3"
    },
    "language_info": {
      "name": "python"
    }
  },
  "cells": [
    {
      "cell_type": "code",
      "metadata": {
        "id": "f2Qq1Kh-sOL5"
      },
      "source": [
        "import pandas as pd"
      ],
      "execution_count": null,
      "outputs": []
    },
    {
      "cell_type": "code",
      "metadata": {
        "id": "JNar4yImsXfS"
      },
      "source": [
        "df = pd.read_csv(\"campeonato-brasileiro-full.csv\")"
      ],
      "execution_count": null,
      "outputs": []
    },
    {
      "cell_type": "code",
      "metadata": {
        "colab": {
          "base_uri": "https://localhost:8080/",
          "height": 306
        },
        "id": "fLqBHqTjsaNR",
        "outputId": "9a9f3e07-1233-4c69-b36a-ab57c25d2ddd"
      },
      "source": [
        "df.head()"
      ],
      "execution_count": null,
      "outputs": [
        {
          "output_type": "execute_result",
          "data": {
            "text/html": [
              "<div>\n",
              "<style scoped>\n",
              "    .dataframe tbody tr th:only-of-type {\n",
              "        vertical-align: middle;\n",
              "    }\n",
              "\n",
              "    .dataframe tbody tr th {\n",
              "        vertical-align: top;\n",
              "    }\n",
              "\n",
              "    .dataframe thead th {\n",
              "        text-align: right;\n",
              "    }\n",
              "</style>\n",
              "<table border=\"1\" class=\"dataframe\">\n",
              "  <thead>\n",
              "    <tr style=\"text-align: right;\">\n",
              "      <th></th>\n",
              "      <th>ID</th>\n",
              "      <th>Rodada</th>\n",
              "      <th>Data</th>\n",
              "      <th>Horário</th>\n",
              "      <th>Dia</th>\n",
              "      <th>Mandante</th>\n",
              "      <th>Visitante</th>\n",
              "      <th>Vencedor</th>\n",
              "      <th>Arena</th>\n",
              "      <th>Mandante Placar</th>\n",
              "      <th>Visitante Placar</th>\n",
              "      <th>Estado Mandante</th>\n",
              "      <th>Estado Visitante</th>\n",
              "      <th>Estado Vencedor</th>\n",
              "    </tr>\n",
              "  </thead>\n",
              "  <tbody>\n",
              "    <tr>\n",
              "      <th>0</th>\n",
              "      <td>1</td>\n",
              "      <td>1</td>\n",
              "      <td>2000-07-29</td>\n",
              "      <td>16h00</td>\n",
              "      <td>Sábado</td>\n",
              "      <td>Fluminense</td>\n",
              "      <td>Bahia</td>\n",
              "      <td>Fluminense</td>\n",
              "      <td>Maracanã</td>\n",
              "      <td>2</td>\n",
              "      <td>0</td>\n",
              "      <td>RJ</td>\n",
              "      <td>BA</td>\n",
              "      <td>RJ</td>\n",
              "    </tr>\n",
              "    <tr>\n",
              "      <th>1</th>\n",
              "      <td>2</td>\n",
              "      <td>1</td>\n",
              "      <td>2000-07-29</td>\n",
              "      <td>16h00</td>\n",
              "      <td>Sábado</td>\n",
              "      <td>Vasco</td>\n",
              "      <td>Sport</td>\n",
              "      <td>Sport</td>\n",
              "      <td>São Januário</td>\n",
              "      <td>0</td>\n",
              "      <td>2</td>\n",
              "      <td>RJ</td>\n",
              "      <td>PE</td>\n",
              "      <td>PE</td>\n",
              "    </tr>\n",
              "    <tr>\n",
              "      <th>2</th>\n",
              "      <td>3</td>\n",
              "      <td>1</td>\n",
              "      <td>2000-07-29</td>\n",
              "      <td>16h00</td>\n",
              "      <td>Sábado</td>\n",
              "      <td>Vitória</td>\n",
              "      <td>Palmeiras</td>\n",
              "      <td>Vitória</td>\n",
              "      <td>Barradão</td>\n",
              "      <td>4</td>\n",
              "      <td>1</td>\n",
              "      <td>ES</td>\n",
              "      <td>SP</td>\n",
              "      <td>ES</td>\n",
              "    </tr>\n",
              "    <tr>\n",
              "      <th>3</th>\n",
              "      <td>4</td>\n",
              "      <td>1</td>\n",
              "      <td>2000-07-30</td>\n",
              "      <td>17h00</td>\n",
              "      <td>Domingo</td>\n",
              "      <td>Botafogo-RJ</td>\n",
              "      <td>Atlético-MG</td>\n",
              "      <td>-</td>\n",
              "      <td>Caio Martins</td>\n",
              "      <td>0</td>\n",
              "      <td>0</td>\n",
              "      <td>RJ</td>\n",
              "      <td>MG</td>\n",
              "      <td>-</td>\n",
              "    </tr>\n",
              "    <tr>\n",
              "      <th>4</th>\n",
              "      <td>5</td>\n",
              "      <td>1</td>\n",
              "      <td>2000-07-30</td>\n",
              "      <td>18h30</td>\n",
              "      <td>Domingo</td>\n",
              "      <td>Juventude</td>\n",
              "      <td>Flamengo</td>\n",
              "      <td>-</td>\n",
              "      <td>Alfredo Jaconi</td>\n",
              "      <td>1</td>\n",
              "      <td>1</td>\n",
              "      <td>RS</td>\n",
              "      <td>RJ</td>\n",
              "      <td>-</td>\n",
              "    </tr>\n",
              "  </tbody>\n",
              "</table>\n",
              "</div>"
            ],
            "text/plain": [
              "   ID Rodada        Data  ... Estado Mandante Estado Visitante Estado Vencedor\n",
              "0   1      1  2000-07-29  ...              RJ               BA              RJ\n",
              "1   2      1  2000-07-29  ...              RJ               PE              PE\n",
              "2   3      1  2000-07-29  ...              ES               SP              ES\n",
              "3   4      1  2000-07-30  ...              RJ               MG               -\n",
              "4   5      1  2000-07-30  ...              RS               RJ               -\n",
              "\n",
              "[5 rows x 14 columns]"
            ]
          },
          "metadata": {
            "tags": []
          },
          "execution_count": 3
        }
      ]
    },
    {
      "cell_type": "code",
      "metadata": {
        "colab": {
          "base_uri": "https://localhost:8080/"
        },
        "id": "xOwlZQsZsbBn",
        "outputId": "3c8a8cc6-8ab5-4ecc-acfa-73cf30410b77"
      },
      "source": [
        "df.info()"
      ],
      "execution_count": null,
      "outputs": [
        {
          "output_type": "stream",
          "text": [
            "<class 'pandas.core.frame.DataFrame'>\n",
            "RangeIndex: 8319 entries, 0 to 8318\n",
            "Data columns (total 14 columns):\n",
            " #   Column            Non-Null Count  Dtype \n",
            "---  ------            --------------  ----- \n",
            " 0   ID                8319 non-null   int64 \n",
            " 1   Rodada            8319 non-null   object\n",
            " 2   Data              8319 non-null   object\n",
            " 3   Horário           7962 non-null   object\n",
            " 4   Dia               8319 non-null   object\n",
            " 5   Mandante          8319 non-null   object\n",
            " 6   Visitante         8319 non-null   object\n",
            " 7   Vencedor          8319 non-null   object\n",
            " 8   Arena             8319 non-null   object\n",
            " 9   Mandante Placar   8319 non-null   int64 \n",
            " 10  Visitante Placar  8319 non-null   int64 \n",
            " 11  Estado Mandante   8319 non-null   object\n",
            " 12  Estado Visitante  8319 non-null   object\n",
            " 13  Estado Vencedor   8319 non-null   object\n",
            "dtypes: int64(3), object(11)\n",
            "memory usage: 910.0+ KB\n"
          ],
          "name": "stdout"
        }
      ]
    },
    {
      "cell_type": "code",
      "metadata": {
        "colab": {
          "base_uri": "https://localhost:8080/"
        },
        "id": "xrIlyo7dtTXI",
        "outputId": "01a8f259-aebc-49cb-bc0a-c0c0c2d6b2ca"
      },
      "source": [
        "type(df)"
      ],
      "execution_count": null,
      "outputs": [
        {
          "output_type": "execute_result",
          "data": {
            "text/plain": [
              "pandas.core.frame.DataFrame"
            ]
          },
          "metadata": {
            "tags": []
          },
          "execution_count": 5
        }
      ]
    },
    {
      "cell_type": "code",
      "metadata": {
        "colab": {
          "base_uri": "https://localhost:8080/"
        },
        "id": "7CO2EVw0tXYT",
        "outputId": "cf09c49d-a290-4ebf-c7ed-af7e7046973b"
      },
      "source": [
        "df[\"Dia\"]"
      ],
      "execution_count": null,
      "outputs": [
        {
          "output_type": "execute_result",
          "data": {
            "text/plain": [
              "0             Sábado\n",
              "1             Sábado\n",
              "2             Sábado\n",
              "3            Domingo\n",
              "4            Domingo\n",
              "            ...     \n",
              "8314    Quinta-Feira\n",
              "8315    Quinta-Feira\n",
              "8316    Quinta-Feira\n",
              "8317    Quinta-Feira\n",
              "8318    Quinta-Feira\n",
              "Name: Dia, Length: 8319, dtype: object"
            ]
          },
          "metadata": {
            "tags": []
          },
          "execution_count": 6
        }
      ]
    },
    {
      "cell_type": "code",
      "metadata": {
        "colab": {
          "base_uri": "https://localhost:8080/"
        },
        "id": "rCuv346Ptcik",
        "outputId": "e1a675ba-5a40-481f-d5be-fc7785f5c79d"
      },
      "source": [
        "type(df[\"Dia\"])"
      ],
      "execution_count": null,
      "outputs": [
        {
          "output_type": "execute_result",
          "data": {
            "text/plain": [
              "pandas.core.series.Series"
            ]
          },
          "metadata": {
            "tags": []
          },
          "execution_count": 7
        }
      ]
    },
    {
      "cell_type": "code",
      "metadata": {
        "colab": {
          "base_uri": "https://localhost:8080/"
        },
        "id": "wE0Ew5ZDtgfF",
        "outputId": "fd5d4324-ced4-4262-fa95-043ab65e1dbc"
      },
      "source": [
        "df[\"Dia\"].equals(df.Dia)"
      ],
      "execution_count": null,
      "outputs": [
        {
          "output_type": "execute_result",
          "data": {
            "text/plain": [
              "True"
            ]
          },
          "metadata": {
            "tags": []
          },
          "execution_count": 8
        }
      ]
    },
    {
      "cell_type": "code",
      "metadata": {
        "id": "mMAdQuyRt1Zn"
      },
      "source": [
        "dia = df[\"Dia\"]"
      ],
      "execution_count": null,
      "outputs": []
    },
    {
      "cell_type": "code",
      "metadata": {
        "colab": {
          "base_uri": "https://localhost:8080/"
        },
        "id": "3hYzeJmRt6tX",
        "outputId": "c53d7461-d4a6-480f-c54e-71d0531d5f76"
      },
      "source": [
        "type(dia)"
      ],
      "execution_count": null,
      "outputs": [
        {
          "output_type": "execute_result",
          "data": {
            "text/plain": [
              "pandas.core.series.Series"
            ]
          },
          "metadata": {
            "tags": []
          },
          "execution_count": 10
        }
      ]
    },
    {
      "cell_type": "code",
      "metadata": {
        "colab": {
          "base_uri": "https://localhost:8080/"
        },
        "id": "cBP_4FAHt78f",
        "outputId": "e28d8cda-1cf0-40c3-addb-8ca73cd075d1"
      },
      "source": [
        "dia.head()"
      ],
      "execution_count": null,
      "outputs": [
        {
          "output_type": "execute_result",
          "data": {
            "text/plain": [
              "0     Sábado\n",
              "1     Sábado\n",
              "2     Sábado\n",
              "3    Domingo\n",
              "4    Domingo\n",
              "Name: Dia, dtype: object"
            ]
          },
          "metadata": {
            "tags": []
          },
          "execution_count": 11
        }
      ]
    },
    {
      "cell_type": "code",
      "metadata": {
        "colab": {
          "base_uri": "https://localhost:8080/"
        },
        "id": "wtYMpr2Rt_vy",
        "outputId": "54756175-ebc9-4b78-dbd2-1238a4cbafc4"
      },
      "source": [
        "dia.dtype"
      ],
      "execution_count": null,
      "outputs": [
        {
          "output_type": "execute_result",
          "data": {
            "text/plain": [
              "dtype('O')"
            ]
          },
          "metadata": {
            "tags": []
          },
          "execution_count": 13
        }
      ]
    },
    {
      "cell_type": "code",
      "metadata": {
        "colab": {
          "base_uri": "https://localhost:8080/"
        },
        "id": "bZlZu77juCf3",
        "outputId": "844ee111-b630-47fc-910a-4ab8cd2bce05"
      },
      "source": [
        "dia.shape"
      ],
      "execution_count": null,
      "outputs": [
        {
          "output_type": "execute_result",
          "data": {
            "text/plain": [
              "(8319,)"
            ]
          },
          "metadata": {
            "tags": []
          },
          "execution_count": 14
        }
      ]
    },
    {
      "cell_type": "code",
      "metadata": {
        "colab": {
          "base_uri": "https://localhost:8080/"
        },
        "id": "W2TDw1hquHYw",
        "outputId": "e598f3ad-370d-46d3-dede-bb3afea6a382"
      },
      "source": [
        "dia.index"
      ],
      "execution_count": null,
      "outputs": [
        {
          "output_type": "execute_result",
          "data": {
            "text/plain": [
              "RangeIndex(start=0, stop=8319, step=1)"
            ]
          },
          "metadata": {
            "tags": []
          },
          "execution_count": 15
        }
      ]
    },
    {
      "cell_type": "code",
      "metadata": {
        "colab": {
          "base_uri": "https://localhost:8080/",
          "height": 283
        },
        "id": "gHw3aDtruMVf",
        "outputId": "5e26b9dd-2561-48e0-fae4-e7513aba63ae"
      },
      "source": [
        "dia.info()"
      ],
      "execution_count": null,
      "outputs": [
        {
          "output_type": "error",
          "ename": "AttributeError",
          "evalue": "ignored",
          "traceback": [
            "\u001b[0;31m---------------------------------------------------------------------------\u001b[0m",
            "\u001b[0;31mAttributeError\u001b[0m                            Traceback (most recent call last)",
            "\u001b[0;32m<ipython-input-16-107547f1d2f5>\u001b[0m in \u001b[0;36m<module>\u001b[0;34m()\u001b[0m\n\u001b[0;32m----> 1\u001b[0;31m \u001b[0mdia\u001b[0m\u001b[0;34m.\u001b[0m\u001b[0minfo\u001b[0m\u001b[0;34m(\u001b[0m\u001b[0;34m)\u001b[0m\u001b[0;34m\u001b[0m\u001b[0;34m\u001b[0m\u001b[0m\n\u001b[0m",
            "\u001b[0;32m/usr/local/lib/python3.7/dist-packages/pandas/core/generic.py\u001b[0m in \u001b[0;36m__getattr__\u001b[0;34m(self, name)\u001b[0m\n\u001b[1;32m   5139\u001b[0m             \u001b[0;32mif\u001b[0m \u001b[0mself\u001b[0m\u001b[0;34m.\u001b[0m\u001b[0m_info_axis\u001b[0m\u001b[0;34m.\u001b[0m\u001b[0m_can_hold_identifiers_and_holds_name\u001b[0m\u001b[0;34m(\u001b[0m\u001b[0mname\u001b[0m\u001b[0;34m)\u001b[0m\u001b[0;34m:\u001b[0m\u001b[0;34m\u001b[0m\u001b[0;34m\u001b[0m\u001b[0m\n\u001b[1;32m   5140\u001b[0m                 \u001b[0;32mreturn\u001b[0m \u001b[0mself\u001b[0m\u001b[0;34m[\u001b[0m\u001b[0mname\u001b[0m\u001b[0;34m]\u001b[0m\u001b[0;34m\u001b[0m\u001b[0;34m\u001b[0m\u001b[0m\n\u001b[0;32m-> 5141\u001b[0;31m             \u001b[0;32mreturn\u001b[0m \u001b[0mobject\u001b[0m\u001b[0;34m.\u001b[0m\u001b[0m__getattribute__\u001b[0m\u001b[0;34m(\u001b[0m\u001b[0mself\u001b[0m\u001b[0;34m,\u001b[0m \u001b[0mname\u001b[0m\u001b[0;34m)\u001b[0m\u001b[0;34m\u001b[0m\u001b[0;34m\u001b[0m\u001b[0m\n\u001b[0m\u001b[1;32m   5142\u001b[0m \u001b[0;34m\u001b[0m\u001b[0m\n\u001b[1;32m   5143\u001b[0m     \u001b[0;32mdef\u001b[0m \u001b[0m__setattr__\u001b[0m\u001b[0;34m(\u001b[0m\u001b[0mself\u001b[0m\u001b[0;34m,\u001b[0m \u001b[0mname\u001b[0m\u001b[0;34m:\u001b[0m \u001b[0mstr\u001b[0m\u001b[0;34m,\u001b[0m \u001b[0mvalue\u001b[0m\u001b[0;34m)\u001b[0m \u001b[0;34m->\u001b[0m \u001b[0;32mNone\u001b[0m\u001b[0;34m:\u001b[0m\u001b[0;34m\u001b[0m\u001b[0;34m\u001b[0m\u001b[0m\n",
            "\u001b[0;31mAttributeError\u001b[0m: 'Series' object has no attribute 'info'"
          ]
        }
      ]
    },
    {
      "cell_type": "code",
      "metadata": {
        "colab": {
          "base_uri": "https://localhost:8080/"
        },
        "id": "bqLonl2euVrp",
        "outputId": "c750d74a-eb3f-407f-d372-43036be151e7"
      },
      "source": [
        "dia.to_frame().info()"
      ],
      "execution_count": null,
      "outputs": [
        {
          "output_type": "stream",
          "text": [
            "<class 'pandas.core.frame.DataFrame'>\n",
            "RangeIndex: 8319 entries, 0 to 8318\n",
            "Data columns (total 1 columns):\n",
            " #   Column  Non-Null Count  Dtype \n",
            "---  ------  --------------  ----- \n",
            " 0   Dia     8319 non-null   object\n",
            "dtypes: object(1)\n",
            "memory usage: 65.1+ KB\n"
          ],
          "name": "stdout"
        }
      ]
    },
    {
      "cell_type": "code",
      "metadata": {
        "id": "Ie-0o8xGuaxw"
      },
      "source": [
        "mandante_placar = df[\"Mandante Placar\"]"
      ],
      "execution_count": null,
      "outputs": []
    },
    {
      "cell_type": "code",
      "metadata": {
        "colab": {
          "base_uri": "https://localhost:8080/"
        },
        "id": "lTH2tPM0urMP",
        "outputId": "eda8ee4b-a8da-4ecb-e752-b7d75c1d5727"
      },
      "source": [
        "type(mandante_placar)"
      ],
      "execution_count": null,
      "outputs": [
        {
          "output_type": "execute_result",
          "data": {
            "text/plain": [
              "pandas.core.series.Series"
            ]
          },
          "metadata": {
            "tags": []
          },
          "execution_count": 20
        }
      ]
    },
    {
      "cell_type": "code",
      "metadata": {
        "colab": {
          "base_uri": "https://localhost:8080/",
          "height": 297
        },
        "id": "9WJXiPqbuvHn",
        "outputId": "9f92ca05-74ca-4b47-e34b-bb163fd5dde6"
      },
      "source": [
        "mandante_placar.to_frame().describe()"
      ],
      "execution_count": null,
      "outputs": [
        {
          "output_type": "execute_result",
          "data": {
            "text/html": [
              "<div>\n",
              "<style scoped>\n",
              "    .dataframe tbody tr th:only-of-type {\n",
              "        vertical-align: middle;\n",
              "    }\n",
              "\n",
              "    .dataframe tbody tr th {\n",
              "        vertical-align: top;\n",
              "    }\n",
              "\n",
              "    .dataframe thead th {\n",
              "        text-align: right;\n",
              "    }\n",
              "</style>\n",
              "<table border=\"1\" class=\"dataframe\">\n",
              "  <thead>\n",
              "    <tr style=\"text-align: right;\">\n",
              "      <th></th>\n",
              "      <th>Mandante Placar</th>\n",
              "    </tr>\n",
              "  </thead>\n",
              "  <tbody>\n",
              "    <tr>\n",
              "      <th>count</th>\n",
              "      <td>8319.000000</td>\n",
              "    </tr>\n",
              "    <tr>\n",
              "      <th>mean</th>\n",
              "      <td>1.588292</td>\n",
              "    </tr>\n",
              "    <tr>\n",
              "      <th>std</th>\n",
              "      <td>1.245473</td>\n",
              "    </tr>\n",
              "    <tr>\n",
              "      <th>min</th>\n",
              "      <td>0.000000</td>\n",
              "    </tr>\n",
              "    <tr>\n",
              "      <th>25%</th>\n",
              "      <td>1.000000</td>\n",
              "    </tr>\n",
              "    <tr>\n",
              "      <th>50%</th>\n",
              "      <td>1.000000</td>\n",
              "    </tr>\n",
              "    <tr>\n",
              "      <th>75%</th>\n",
              "      <td>2.000000</td>\n",
              "    </tr>\n",
              "    <tr>\n",
              "      <th>max</th>\n",
              "      <td>7.000000</td>\n",
              "    </tr>\n",
              "  </tbody>\n",
              "</table>\n",
              "</div>"
            ],
            "text/plain": [
              "       Mandante Placar\n",
              "count      8319.000000\n",
              "mean          1.588292\n",
              "std           1.245473\n",
              "min           0.000000\n",
              "25%           1.000000\n",
              "50%           1.000000\n",
              "75%           2.000000\n",
              "max           7.000000"
            ]
          },
          "metadata": {
            "tags": []
          },
          "execution_count": 21
        }
      ]
    },
    {
      "cell_type": "code",
      "metadata": {
        "colab": {
          "base_uri": "https://localhost:8080/"
        },
        "id": "OifmUYi3u2au",
        "outputId": "3b515fe5-3997-415a-c967-42189faefc0f"
      },
      "source": [
        "mandante_placar.count()"
      ],
      "execution_count": null,
      "outputs": [
        {
          "output_type": "execute_result",
          "data": {
            "text/plain": [
              "8319"
            ]
          },
          "metadata": {
            "tags": []
          },
          "execution_count": 22
        }
      ]
    },
    {
      "cell_type": "code",
      "metadata": {
        "colab": {
          "base_uri": "https://localhost:8080/"
        },
        "id": "7x1MjkLJu8ke",
        "outputId": "e85a4914-8a98-4d58-cc10-a7f90785be02"
      },
      "source": [
        "mandante_placar.size"
      ],
      "execution_count": null,
      "outputs": [
        {
          "output_type": "execute_result",
          "data": {
            "text/plain": [
              "8319"
            ]
          },
          "metadata": {
            "tags": []
          },
          "execution_count": 23
        }
      ]
    },
    {
      "cell_type": "code",
      "metadata": {
        "colab": {
          "base_uri": "https://localhost:8080/"
        },
        "id": "xJr0wT4Vu_Eb",
        "outputId": "696ccdf1-71d3-4869-a83b-2da5c9310102"
      },
      "source": [
        "len(mandante_placar)"
      ],
      "execution_count": null,
      "outputs": [
        {
          "output_type": "execute_result",
          "data": {
            "text/plain": [
              "8319"
            ]
          },
          "metadata": {
            "tags": []
          },
          "execution_count": 24
        }
      ]
    },
    {
      "cell_type": "code",
      "metadata": {
        "colab": {
          "base_uri": "https://localhost:8080/"
        },
        "id": "TFyuW0B-vB1S",
        "outputId": "d59b2f54-31df-41bc-ee14-65534fa7361a"
      },
      "source": [
        "mandante_placar.unique()"
      ],
      "execution_count": null,
      "outputs": [
        {
          "output_type": "execute_result",
          "data": {
            "text/plain": [
              "array([2, 0, 4, 1, 3, 5, 6, 7])"
            ]
          },
          "metadata": {
            "tags": []
          },
          "execution_count": 25
        }
      ]
    },
    {
      "cell_type": "code",
      "metadata": {
        "colab": {
          "base_uri": "https://localhost:8080/"
        },
        "id": "IWp_B0tSvErU",
        "outputId": "6a068f05-103d-4ab6-c40c-88a3d59cf9c2"
      },
      "source": [
        "mandante_placar.nunique()"
      ],
      "execution_count": null,
      "outputs": [
        {
          "output_type": "execute_result",
          "data": {
            "text/plain": [
              "8"
            ]
          },
          "metadata": {
            "tags": []
          },
          "execution_count": 26
        }
      ]
    },
    {
      "cell_type": "code",
      "metadata": {
        "colab": {
          "base_uri": "https://localhost:8080/"
        },
        "id": "0chYfJM2vNbV",
        "outputId": "4a7bd249-2f7d-489a-cebc-e8f71e67533c"
      },
      "source": [
        "mandante_placar.value_counts(ascending=True, bins = 10)"
      ],
      "execution_count": null,
      "outputs": [
        {
          "output_type": "execute_result",
          "data": {
            "text/plain": [
              "(2.1, 2.8]          0\n",
              "(4.2, 4.9]          0\n",
              "(6.3, 7.0]          8\n",
              "(5.6, 6.3]         40\n",
              "(4.9, 5.6]        138\n",
              "(3.5, 4.2]        441\n",
              "(2.8, 3.5]       1134\n",
              "(-0.008, 0.7]    1639\n",
              "(1.4, 2.1]       2142\n",
              "(0.7, 1.4]       2777\n",
              "Name: Mandante Placar, dtype: int64"
            ]
          },
          "metadata": {
            "tags": []
          },
          "execution_count": 29
        }
      ]
    },
    {
      "cell_type": "code",
      "metadata": {
        "id": "DKl4vJZAvRB3"
      },
      "source": [],
      "execution_count": null,
      "outputs": []
    }
  ]
}