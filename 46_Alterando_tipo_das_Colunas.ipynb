{
 "cells": [
  {
   "cell_type": "code",
   "execution_count": 1,
   "id": "c8aa8864",
   "metadata": {},
   "outputs": [],
   "source": [
    "import pandas as pd"
   ]
  },
  {
   "cell_type": "code",
   "execution_count": 2,
   "id": "60889bb3",
   "metadata": {},
   "outputs": [],
   "source": [
    "df = pd.read_csv(\"Passageiros.csv\")"
   ]
  },
  {
   "cell_type": "code",
   "execution_count": 3,
   "id": "9153524f",
   "metadata": {},
   "outputs": [
    {
     "data": {
      "text/html": [
       "<div>\n",
       "<style scoped>\n",
       "    .dataframe tbody tr th:only-of-type {\n",
       "        vertical-align: middle;\n",
       "    }\n",
       "\n",
       "    .dataframe tbody tr th {\n",
       "        vertical-align: top;\n",
       "    }\n",
       "\n",
       "    .dataframe thead th {\n",
       "        text-align: right;\n",
       "    }\n",
       "</style>\n",
       "<table border=\"1\" class=\"dataframe\">\n",
       "  <thead>\n",
       "    <tr style=\"text-align: right;\">\n",
       "      <th></th>\n",
       "      <th>Categoria</th>\n",
       "      <th>Gênero</th>\n",
       "      <th>Idade</th>\n",
       "      <th>Valor</th>\n",
       "      <th>Embarque</th>\n",
       "      <th>Date</th>\n",
       "    </tr>\n",
       "  </thead>\n",
       "  <tbody>\n",
       "    <tr>\n",
       "      <th>0</th>\n",
       "      <td>1</td>\n",
       "      <td>Masculino</td>\n",
       "      <td>22.0</td>\n",
       "      <td>R$ 300,00</td>\n",
       "      <td>Sábado</td>\n",
       "      <td>05-01-2019</td>\n",
       "    </tr>\n",
       "    <tr>\n",
       "      <th>1</th>\n",
       "      <td>2</td>\n",
       "      <td>Feminino</td>\n",
       "      <td>32.0</td>\n",
       "      <td>R$ 200,00</td>\n",
       "      <td>Quarta-Feira</td>\n",
       "      <td>02-01-2019</td>\n",
       "    </tr>\n",
       "    <tr>\n",
       "      <th>2</th>\n",
       "      <td>3</td>\n",
       "      <td>Masculino</td>\n",
       "      <td>23.0</td>\n",
       "      <td>R$ 160,00</td>\n",
       "      <td>Quarta-Feira</td>\n",
       "      <td>02-01-2019</td>\n",
       "    </tr>\n",
       "    <tr>\n",
       "      <th>3</th>\n",
       "      <td>1</td>\n",
       "      <td>Feminino</td>\n",
       "      <td>25.0</td>\n",
       "      <td>R$ 300,00</td>\n",
       "      <td>Domingo</td>\n",
       "      <td>06-01-2019</td>\n",
       "    </tr>\n",
       "    <tr>\n",
       "      <th>4</th>\n",
       "      <td>2</td>\n",
       "      <td>Masculino</td>\n",
       "      <td>23.0</td>\n",
       "      <td>R$ 200,00</td>\n",
       "      <td>Quarta-Feira</td>\n",
       "      <td>16-01-2019</td>\n",
       "    </tr>\n",
       "  </tbody>\n",
       "</table>\n",
       "</div>"
      ],
      "text/plain": [
       "   Categoria     Gênero  Idade      Valor      Embarque        Date\n",
       "0          1  Masculino   22.0  R$ 300,00        Sábado  05-01-2019\n",
       "1          2   Feminino   32.0  R$ 200,00  Quarta-Feira  02-01-2019\n",
       "2          3  Masculino   23.0  R$ 160,00  Quarta-Feira  02-01-2019\n",
       "3          1   Feminino   25.0  R$ 300,00       Domingo  06-01-2019\n",
       "4          2  Masculino   23.0  R$ 200,00  Quarta-Feira  16-01-2019"
      ]
     },
     "execution_count": 3,
     "metadata": {},
     "output_type": "execute_result"
    }
   ],
   "source": [
    "df.head()"
   ]
  },
  {
   "cell_type": "code",
   "execution_count": 4,
   "id": "ae427e12",
   "metadata": {},
   "outputs": [],
   "source": [
    "# Idade agora é INT64\n",
    "df.Idade =  df.Idade.astype(int)"
   ]
  },
  {
   "cell_type": "code",
   "execution_count": 6,
   "id": "77eea3d4",
   "metadata": {},
   "outputs": [
    {
     "name": "stdout",
     "output_type": "stream",
     "text": [
      "<class 'pandas.core.frame.DataFrame'>\n",
      "RangeIndex: 9 entries, 0 to 8\n",
      "Data columns (total 6 columns):\n",
      " #   Column     Non-Null Count  Dtype \n",
      "---  ------     --------------  ----- \n",
      " 0   Categoria  9 non-null      int64 \n",
      " 1   Gênero     9 non-null      object\n",
      " 2   Idade      9 non-null      int64 \n",
      " 3   Valor      9 non-null      object\n",
      " 4   Embarque   9 non-null      object\n",
      " 5   Date       9 non-null      object\n",
      "dtypes: int64(2), object(4)\n",
      "memory usage: 560.0+ bytes\n"
     ]
    }
   ],
   "source": [
    "df.info()"
   ]
  },
  {
   "cell_type": "code",
   "execution_count": 8,
   "id": "10e5b2f5",
   "metadata": {},
   "outputs": [
    {
     "data": {
      "text/plain": [
       "0    22\n",
       "1    32\n",
       "2    23\n",
       "3    25\n",
       "4    23\n",
       "5    48\n",
       "6    53\n",
       "7    34\n",
       "8    67\n",
       "Name: Idade, dtype: int64"
      ]
     },
     "execution_count": 8,
     "metadata": {},
     "output_type": "execute_result"
    }
   ],
   "source": [
    "# Não há mais casas decimais:\n",
    "df.Idade"
   ]
  },
  {
   "cell_type": "code",
   "execution_count": 11,
   "id": "9009a831",
   "metadata": {},
   "outputs": [
    {
     "data": {
      "text/plain": [
       "dtype('O')"
      ]
     },
     "execution_count": 11,
     "metadata": {},
     "output_type": "execute_result"
    }
   ],
   "source": [
    "# A coluna 'Valor' é alfanumerica (letras + caracteres)\n",
    "# Éla é vista como objeto.\n",
    "\n",
    "# NÃO É POSSIVEL FAZER O MESMO TIPO DE CONVERSÃO ANTERIOR AQUI\n",
    "df.Valor.dtype"
   ]
  },
  {
   "cell_type": "code",
   "execution_count": 12,
   "id": "006b1d63",
   "metadata": {},
   "outputs": [],
   "source": [
    "# TEMOS QUE RETIRAR AS LETRAS/CARACTERES PRIMEIRO:\n",
    "df['Valor'] = df['Valor'].apply(lambda x:x.replace(\"R$\", \"\"))"
   ]
  },
  {
   "cell_type": "code",
   "execution_count": 13,
   "id": "5c59ee00",
   "metadata": {},
   "outputs": [
    {
     "data": {
      "text/plain": [
       "0     300,00\n",
       "1     200,00\n",
       "2     160,00\n",
       "3     300,00\n",
       "4     200,00\n",
       "5     300,00\n",
       "6      80,00\n",
       "7     400,00\n",
       "8     200,00\n",
       "Name: Valor, dtype: object"
      ]
     },
     "execution_count": 13,
     "metadata": {},
     "output_type": "execute_result"
    }
   ],
   "source": [
    "# RETIRAMOS O R$ :\n",
    "df.Valor"
   ]
  },
  {
   "cell_type": "code",
   "execution_count": 15,
   "id": "4ad873cf",
   "metadata": {},
   "outputs": [],
   "source": [
    "# DEVEMOS TAMBÉM SUBSTITUIR A VIRGULA por pontos:\n",
    "df['Valor'] = df['Valor'].apply(lambda x:x.replace(\",\", \".\"))"
   ]
  },
  {
   "cell_type": "code",
   "execution_count": 16,
   "id": "65824315",
   "metadata": {},
   "outputs": [],
   "source": [
    "# AGORA PODEMOS CONVERTER:\n",
    "\n",
    "df.Valor =  df.Valor.astype(float)"
   ]
  },
  {
   "cell_type": "code",
   "execution_count": 17,
   "id": "08b1ccc1",
   "metadata": {},
   "outputs": [
    {
     "data": {
      "text/plain": [
       "0    300.0\n",
       "1    200.0\n",
       "2    160.0\n",
       "3    300.0\n",
       "4    200.0\n",
       "5    300.0\n",
       "6     80.0\n",
       "7    400.0\n",
       "8    200.0\n",
       "Name: Valor, dtype: float64"
      ]
     },
     "execution_count": 17,
     "metadata": {},
     "output_type": "execute_result"
    }
   ],
   "source": [
    "df.Valor"
   ]
  },
  {
   "cell_type": "code",
   "execution_count": null,
   "id": "736f0594",
   "metadata": {},
   "outputs": [],
   "source": []
  }
 ],
 "metadata": {
  "kernelspec": {
   "display_name": "Python 3 (ipykernel)",
   "language": "python",
   "name": "python3"
  },
  "language_info": {
   "codemirror_mode": {
    "name": "ipython",
    "version": 3
   },
   "file_extension": ".py",
   "mimetype": "text/x-python",
   "name": "python",
   "nbconvert_exporter": "python",
   "pygments_lexer": "ipython3",
   "version": "3.9.12"
  }
 },
 "nbformat": 4,
 "nbformat_minor": 5
}
