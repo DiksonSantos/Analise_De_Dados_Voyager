{
 "cells": [
  {
   "cell_type": "code",
   "execution_count": 1,
   "id": "788e529c",
   "metadata": {},
   "outputs": [],
   "source": [
    "import pandas as pd\n",
    "import warnings\n",
    "warnings.filterwarnings('ignore')"
   ]
  },
  {
   "cell_type": "code",
   "execution_count": 2,
   "id": "5b3f122e",
   "metadata": {},
   "outputs": [],
   "source": [
    "lista = [1,2,3]"
   ]
  },
  {
   "cell_type": "code",
   "execution_count": 4,
   "id": "dcfd27c8",
   "metadata": {},
   "outputs": [
    {
     "data": {
      "text/plain": [
       "Int64Index([1, 2, 3], dtype='int64')"
      ]
     },
     "execution_count": 4,
     "metadata": {},
     "output_type": "execute_result"
    }
   ],
   "source": [
    "# INDEX COM I MAIUSCULO:\n",
    "# Cria um Index a partir da lista numerica\n",
    "pd.Index(data=lista)"
   ]
  },
  {
   "cell_type": "code",
   "execution_count": 5,
   "id": "287a21bf",
   "metadata": {},
   "outputs": [],
   "source": [
    "lista_Letras = [\"z\",\"e\",\"r\",\"a\"]"
   ]
  },
  {
   "cell_type": "code",
   "execution_count": 6,
   "id": "b4384ae7",
   "metadata": {},
   "outputs": [
    {
     "data": {
      "text/plain": [
       "Index(['z', 'e', 'r', 'a'], dtype='object')"
      ]
     },
     "execution_count": 6,
     "metadata": {},
     "output_type": "execute_result"
    }
   ],
   "source": [
    "pd.Index(lista_Letras)"
   ]
  },
  {
   "cell_type": "code",
   "execution_count": 9,
   "id": "bc20e294",
   "metadata": {},
   "outputs": [],
   "source": [
    "# TEMOS 3 VALORES AQUI:\n",
    "index1 = pd.Index(range(1,4))"
   ]
  },
  {
   "cell_type": "code",
   "execution_count": 10,
   "id": "64f491de",
   "metadata": {},
   "outputs": [
    {
     "data": {
      "text/plain": [
       "RangeIndex(start=1, stop=4, step=1)"
      ]
     },
     "execution_count": 10,
     "metadata": {},
     "output_type": "execute_result"
    }
   ],
   "source": [
    "# Contem 1,2,3\n",
    "index1"
   ]
  },
  {
   "cell_type": "code",
   "execution_count": 11,
   "id": "f42e322d",
   "metadata": {},
   "outputs": [
    {
     "data": {
      "text/plain": [
       "1    10\n",
       "2    22\n",
       "3    31\n",
       "dtype: int64"
      ]
     },
     "execution_count": 11,
     "metadata": {},
     "output_type": "execute_result"
    }
   ],
   "source": [
    "# Ele é criado na ordem inversa ao exibido logo a baixo:\n",
    "pd.Series([10,22,31], index=index1)"
   ]
  },
  {
   "cell_type": "code",
   "execution_count": 12,
   "id": "41753584",
   "metadata": {},
   "outputs": [
    {
     "data": {
      "text/plain": [
       "z    10\n",
       "e    22\n",
       "r    31\n",
       "a    35\n",
       "dtype: int64"
      ]
     },
     "execution_count": 12,
     "metadata": {},
     "output_type": "execute_result"
    }
   ],
   "source": [
    "# A QUANTIDADE DE ITENS TEM QUE SER EQUIVALENTE\n",
    "pd.Series([10,22,31,35], index=lista_Letras)"
   ]
  },
  {
   "cell_type": "code",
   "execution_count": null,
   "id": "6c846485",
   "metadata": {},
   "outputs": [],
   "source": []
  }
 ],
 "metadata": {
  "kernelspec": {
   "display_name": "Python 3 (ipykernel)",
   "language": "python",
   "name": "python3"
  },
  "language_info": {
   "codemirror_mode": {
    "name": "ipython",
    "version": 3
   },
   "file_extension": ".py",
   "mimetype": "text/x-python",
   "name": "python",
   "nbconvert_exporter": "python",
   "pygments_lexer": "ipython3",
   "version": "3.9.12"
  }
 },
 "nbformat": 4,
 "nbformat_minor": 5
}
