{
 "cells": [
  {
   "cell_type": "code",
   "execution_count": 1,
   "id": "931f564f",
   "metadata": {},
   "outputs": [],
   "source": [
    "import pandas as pd"
   ]
  },
  {
   "cell_type": "code",
   "execution_count": 2,
   "id": "6edb5005",
   "metadata": {},
   "outputs": [],
   "source": [
    "df = pd.read_csv(\"Passageiros.csv\")"
   ]
  },
  {
   "cell_type": "code",
   "execution_count": 3,
   "id": "eea35d6d",
   "metadata": {},
   "outputs": [
    {
     "data": {
      "text/html": [
       "<div>\n",
       "<style scoped>\n",
       "    .dataframe tbody tr th:only-of-type {\n",
       "        vertical-align: middle;\n",
       "    }\n",
       "\n",
       "    .dataframe tbody tr th {\n",
       "        vertical-align: top;\n",
       "    }\n",
       "\n",
       "    .dataframe thead th {\n",
       "        text-align: right;\n",
       "    }\n",
       "</style>\n",
       "<table border=\"1\" class=\"dataframe\">\n",
       "  <thead>\n",
       "    <tr style=\"text-align: right;\">\n",
       "      <th></th>\n",
       "      <th>Categoria</th>\n",
       "      <th>Gênero</th>\n",
       "      <th>Idade</th>\n",
       "      <th>Valor</th>\n",
       "      <th>Embarque</th>\n",
       "      <th>Date</th>\n",
       "    </tr>\n",
       "  </thead>\n",
       "  <tbody>\n",
       "    <tr>\n",
       "      <th>0</th>\n",
       "      <td>1</td>\n",
       "      <td>Masculino</td>\n",
       "      <td>22.0</td>\n",
       "      <td>R$ 300,00</td>\n",
       "      <td>Sábado</td>\n",
       "      <td>05-01-2019</td>\n",
       "    </tr>\n",
       "    <tr>\n",
       "      <th>1</th>\n",
       "      <td>2</td>\n",
       "      <td>Feminino</td>\n",
       "      <td>32.0</td>\n",
       "      <td>R$ 200,00</td>\n",
       "      <td>Quarta-Feira</td>\n",
       "      <td>02-01-2019</td>\n",
       "    </tr>\n",
       "    <tr>\n",
       "      <th>2</th>\n",
       "      <td>3</td>\n",
       "      <td>Masculino</td>\n",
       "      <td>23.0</td>\n",
       "      <td>R$ 160,00</td>\n",
       "      <td>Quarta-Feira</td>\n",
       "      <td>02-01-2019</td>\n",
       "    </tr>\n",
       "    <tr>\n",
       "      <th>3</th>\n",
       "      <td>1</td>\n",
       "      <td>Feminino</td>\n",
       "      <td>25.0</td>\n",
       "      <td>R$ 300,00</td>\n",
       "      <td>Domingo</td>\n",
       "      <td>06-01-2019</td>\n",
       "    </tr>\n",
       "    <tr>\n",
       "      <th>4</th>\n",
       "      <td>2</td>\n",
       "      <td>Masculino</td>\n",
       "      <td>23.0</td>\n",
       "      <td>R$ 200,00</td>\n",
       "      <td>Quarta-Feira</td>\n",
       "      <td>16-01-2019</td>\n",
       "    </tr>\n",
       "    <tr>\n",
       "      <th>5</th>\n",
       "      <td>3</td>\n",
       "      <td>Feminino</td>\n",
       "      <td>48.0</td>\n",
       "      <td>R$ 300,00</td>\n",
       "      <td>Sábado</td>\n",
       "      <td>12-01-2019</td>\n",
       "    </tr>\n",
       "    <tr>\n",
       "      <th>6</th>\n",
       "      <td>4</td>\n",
       "      <td>Feminino</td>\n",
       "      <td>53.0</td>\n",
       "      <td>R$ 80,00</td>\n",
       "      <td>Quinta-Feira</td>\n",
       "      <td>17-01-2019</td>\n",
       "    </tr>\n",
       "    <tr>\n",
       "      <th>7</th>\n",
       "      <td>1</td>\n",
       "      <td>Masculino</td>\n",
       "      <td>34.0</td>\n",
       "      <td>R$ 400,00</td>\n",
       "      <td>Sábado</td>\n",
       "      <td>12-01-2019</td>\n",
       "    </tr>\n",
       "    <tr>\n",
       "      <th>8</th>\n",
       "      <td>2</td>\n",
       "      <td>Feminino</td>\n",
       "      <td>67.0</td>\n",
       "      <td>R$ 200,00</td>\n",
       "      <td>Quinta-Feira</td>\n",
       "      <td>10-01-2019</td>\n",
       "    </tr>\n",
       "  </tbody>\n",
       "</table>\n",
       "</div>"
      ],
      "text/plain": [
       "   Categoria     Gênero  Idade      Valor      Embarque        Date\n",
       "0          1  Masculino   22.0  R$ 300,00        Sábado  05-01-2019\n",
       "1          2   Feminino   32.0  R$ 200,00  Quarta-Feira  02-01-2019\n",
       "2          3  Masculino   23.0  R$ 160,00  Quarta-Feira  02-01-2019\n",
       "3          1   Feminino   25.0  R$ 300,00       Domingo  06-01-2019\n",
       "4          2  Masculino   23.0  R$ 200,00  Quarta-Feira  16-01-2019\n",
       "5          3   Feminino   48.0  R$ 300,00        Sábado  12-01-2019\n",
       "6          4   Feminino   53.0   R$ 80,00  Quinta-Feira  17-01-2019\n",
       "7          1  Masculino   34.0  R$ 400,00        Sábado  12-01-2019\n",
       "8          2   Feminino   67.0  R$ 200,00  Quinta-Feira  10-01-2019"
      ]
     },
     "execution_count": 3,
     "metadata": {},
     "output_type": "execute_result"
    }
   ],
   "source": [
    "df.head(9)"
   ]
  },
  {
   "cell_type": "code",
   "execution_count": 4,
   "id": "788d19bb",
   "metadata": {},
   "outputs": [
    {
     "name": "stdout",
     "output_type": "stream",
     "text": [
      "<class 'pandas.core.frame.DataFrame'>\n",
      "RangeIndex: 9 entries, 0 to 8\n",
      "Data columns (total 6 columns):\n",
      " #   Column     Non-Null Count  Dtype  \n",
      "---  ------     --------------  -----  \n",
      " 0   Categoria  9 non-null      int64  \n",
      " 1   Gênero     9 non-null      object \n",
      " 2   Idade      9 non-null      float64\n",
      " 3   Valor      9 non-null      object \n",
      " 4   Embarque   9 non-null      object \n",
      " 5   Date       9 non-null      object \n",
      "dtypes: float64(1), int64(1), object(4)\n",
      "memory usage: 560.0+ bytes\n"
     ]
    }
   ],
   "source": [
    "df.info()"
   ]
  },
  {
   "cell_type": "code",
   "execution_count": 5,
   "id": "648f1c38",
   "metadata": {},
   "outputs": [
    {
     "data": {
      "text/plain": [
       "dtype('int64')"
      ]
     },
     "execution_count": 5,
     "metadata": {},
     "output_type": "execute_result"
    }
   ],
   "source": [
    "# Checar Tipo da coluna\n",
    "df.Categoria.dtype"
   ]
  },
  {
   "cell_type": "code",
   "execution_count": 6,
   "id": "382ad9f4",
   "metadata": {},
   "outputs": [],
   "source": [
    "lista = [3,3,3,3,1,\"a\"]\n",
    "serie_dic = pd.Series(lista)"
   ]
  },
  {
   "cell_type": "code",
   "execution_count": 7,
   "id": "cdbd5a83",
   "metadata": {},
   "outputs": [
    {
     "data": {
      "text/plain": [
       "array([3, 1, 'a'], dtype=object)"
      ]
     },
     "execution_count": 7,
     "metadata": {},
     "output_type": "execute_result"
    }
   ],
   "source": [
    "# ?????\n",
    "serie_dic.unique()"
   ]
  },
  {
   "cell_type": "code",
   "execution_count": 8,
   "id": "bb43ca15",
   "metadata": {},
   "outputs": [
    {
     "data": {
      "text/plain": [
       "array(['R$ 300,00', 'R$ 200,00', 'R$ 160,00', 'R$ 80,00', 'R$ 400,00'],\n",
       "      dtype=object)"
      ]
     },
     "execution_count": 8,
     "metadata": {},
     "output_type": "execute_result"
    }
   ],
   "source": [
    "# ?????\n",
    "df.Valor.unique()"
   ]
  },
  {
   "cell_type": "code",
   "execution_count": 9,
   "id": "af8b4405",
   "metadata": {},
   "outputs": [
    {
     "data": {
      "text/plain": [
       "0    Masculino\n",
       "1     Feminino\n",
       "2    Masculino\n",
       "3     Feminino\n",
       "4    Masculino\n",
       "5     Feminino\n",
       "6     Feminino\n",
       "7    Masculino\n",
       "8     Feminino\n",
       "Name: Gênero, dtype: object"
      ]
     },
     "execution_count": 9,
     "metadata": {},
     "output_type": "execute_result"
    }
   ],
   "source": [
    "df.Gênero"
   ]
  },
  {
   "cell_type": "code",
   "execution_count": 10,
   "id": "3b73cdd1",
   "metadata": {},
   "outputs": [],
   "source": [
    "# Vamos tornar isso em valores binários:\n",
    "df.Gênero.replace(to_replace= [\"Masculino\", \"Feminino\"], value=[0, 1], inplace=True)"
   ]
  },
  {
   "cell_type": "code",
   "execution_count": 11,
   "id": "8f96b7fd",
   "metadata": {},
   "outputs": [
    {
     "data": {
      "text/plain": [
       "0    0\n",
       "1    1\n",
       "2    0\n",
       "3    1\n",
       "4    0\n",
       "5    1\n",
       "6    1\n",
       "7    0\n",
       "8    1\n",
       "Name: Gênero, dtype: int64"
      ]
     },
     "execution_count": 11,
     "metadata": {},
     "output_type": "execute_result"
    }
   ],
   "source": [
    "df.Gênero"
   ]
  },
  {
   "cell_type": "code",
   "execution_count": 12,
   "id": "44952f00",
   "metadata": {},
   "outputs": [],
   "source": [
    "# Renomear Nome da Coluna:\n",
    "df.rename(columns={'Gênero':'Genero'}, inplace=True)"
   ]
  },
  {
   "cell_type": "code",
   "execution_count": 13,
   "id": "bd7fd64e",
   "metadata": {},
   "outputs": [
    {
     "data": {
      "text/html": [
       "<div>\n",
       "<style scoped>\n",
       "    .dataframe tbody tr th:only-of-type {\n",
       "        vertical-align: middle;\n",
       "    }\n",
       "\n",
       "    .dataframe tbody tr th {\n",
       "        vertical-align: top;\n",
       "    }\n",
       "\n",
       "    .dataframe thead th {\n",
       "        text-align: right;\n",
       "    }\n",
       "</style>\n",
       "<table border=\"1\" class=\"dataframe\">\n",
       "  <thead>\n",
       "    <tr style=\"text-align: right;\">\n",
       "      <th></th>\n",
       "      <th>Categoria</th>\n",
       "      <th>Genero</th>\n",
       "      <th>Idade</th>\n",
       "      <th>Valor</th>\n",
       "      <th>Embarque</th>\n",
       "      <th>Date</th>\n",
       "    </tr>\n",
       "  </thead>\n",
       "  <tbody>\n",
       "    <tr>\n",
       "      <th>0</th>\n",
       "      <td>1</td>\n",
       "      <td>0</td>\n",
       "      <td>22.0</td>\n",
       "      <td>R$ 300,00</td>\n",
       "      <td>Sábado</td>\n",
       "      <td>05-01-2019</td>\n",
       "    </tr>\n",
       "    <tr>\n",
       "      <th>1</th>\n",
       "      <td>2</td>\n",
       "      <td>1</td>\n",
       "      <td>32.0</td>\n",
       "      <td>R$ 200,00</td>\n",
       "      <td>Quarta-Feira</td>\n",
       "      <td>02-01-2019</td>\n",
       "    </tr>\n",
       "    <tr>\n",
       "      <th>2</th>\n",
       "      <td>3</td>\n",
       "      <td>0</td>\n",
       "      <td>23.0</td>\n",
       "      <td>R$ 160,00</td>\n",
       "      <td>Quarta-Feira</td>\n",
       "      <td>02-01-2019</td>\n",
       "    </tr>\n",
       "    <tr>\n",
       "      <th>3</th>\n",
       "      <td>1</td>\n",
       "      <td>1</td>\n",
       "      <td>25.0</td>\n",
       "      <td>R$ 300,00</td>\n",
       "      <td>Domingo</td>\n",
       "      <td>06-01-2019</td>\n",
       "    </tr>\n",
       "    <tr>\n",
       "      <th>4</th>\n",
       "      <td>2</td>\n",
       "      <td>0</td>\n",
       "      <td>23.0</td>\n",
       "      <td>R$ 200,00</td>\n",
       "      <td>Quarta-Feira</td>\n",
       "      <td>16-01-2019</td>\n",
       "    </tr>\n",
       "  </tbody>\n",
       "</table>\n",
       "</div>"
      ],
      "text/plain": [
       "   Categoria  Genero  Idade      Valor      Embarque        Date\n",
       "0          1       0   22.0  R$ 300,00        Sábado  05-01-2019\n",
       "1          2       1   32.0  R$ 200,00  Quarta-Feira  02-01-2019\n",
       "2          3       0   23.0  R$ 160,00  Quarta-Feira  02-01-2019\n",
       "3          1       1   25.0  R$ 300,00       Domingo  06-01-2019\n",
       "4          2       0   23.0  R$ 200,00  Quarta-Feira  16-01-2019"
      ]
     },
     "execution_count": 13,
     "metadata": {},
     "output_type": "execute_result"
    }
   ],
   "source": [
    "# Agora Sem acento\n",
    "df.head()"
   ]
  },
  {
   "cell_type": "code",
   "execution_count": 14,
   "id": "9ecb5ba5",
   "metadata": {},
   "outputs": [],
   "source": [
    "# Idade -> Modificar de Float para INT\n",
    "df.Idade = df.Idade.astype(int)"
   ]
  },
  {
   "cell_type": "code",
   "execution_count": 15,
   "id": "5afad6e3",
   "metadata": {},
   "outputs": [
    {
     "name": "stdout",
     "output_type": "stream",
     "text": [
      "<class 'pandas.core.frame.DataFrame'>\n",
      "RangeIndex: 9 entries, 0 to 8\n",
      "Data columns (total 6 columns):\n",
      " #   Column     Non-Null Count  Dtype \n",
      "---  ------     --------------  ----- \n",
      " 0   Categoria  9 non-null      int64 \n",
      " 1   Genero     9 non-null      int64 \n",
      " 2   Idade      9 non-null      int64 \n",
      " 3   Valor      9 non-null      object\n",
      " 4   Embarque   9 non-null      object\n",
      " 5   Date       9 non-null      object\n",
      "dtypes: int64(3), object(3)\n",
      "memory usage: 560.0+ bytes\n"
     ]
    }
   ],
   "source": [
    "# Agora Idade 'int64\n",
    "df.info()"
   ]
  },
  {
   "cell_type": "code",
   "execution_count": 27,
   "id": "c1ee4dd4",
   "metadata": {},
   "outputs": [],
   "source": [
    "# Lambda P/ Substituir R$ por Vazio\n",
    "df['Valor'] = df['Valor'].apply(lambda x:x.replace(\"R$\", \"\"))"
   ]
  },
  {
   "cell_type": "code",
   "execution_count": 28,
   "id": "e223f4d9",
   "metadata": {},
   "outputs": [
    {
     "data": {
      "text/plain": [
       "0     300,00\n",
       "1     200,00\n",
       "2     160,00\n",
       "3     300,00\n",
       "4     200,00\n",
       "5     300,00\n",
       "6      80,00\n",
       "7     400,00\n",
       "8     200,00\n",
       "Name: Valor, dtype: object"
      ]
     },
     "execution_count": 28,
     "metadata": {},
     "output_type": "execute_result"
    }
   ],
   "source": [
    "df.Valor"
   ]
  },
  {
   "cell_type": "code",
   "execution_count": 34,
   "id": "79208c54",
   "metadata": {},
   "outputs": [
    {
     "data": {
      "text/plain": [
       "dtype('O')"
      ]
     },
     "execution_count": 34,
     "metadata": {},
     "output_type": "execute_result"
    }
   ],
   "source": [
    "# Tipo Object \n",
    "df[\"Valor\"].dtype"
   ]
  },
  {
   "cell_type": "code",
   "execution_count": 29,
   "id": "de4557d1",
   "metadata": {},
   "outputs": [],
   "source": [
    "# Virgula Por Ponto\n",
    "df['Valor'] = df['Valor'].apply(lambda x:x.replace(\",\", \".\"))"
   ]
  },
  {
   "cell_type": "code",
   "execution_count": 30,
   "id": "d7a6c8a6",
   "metadata": {},
   "outputs": [
    {
     "data": {
      "text/plain": [
       "0     300.00\n",
       "1     200.00\n",
       "2     160.00\n",
       "3     300.00\n",
       "4     200.00\n",
       "5     300.00\n",
       "6      80.00\n",
       "7     400.00\n",
       "8     200.00\n",
       "Name: Valor, dtype: object"
      ]
     },
     "execution_count": 30,
     "metadata": {},
     "output_type": "execute_result"
    }
   ],
   "source": [
    "df.Valor"
   ]
  },
  {
   "cell_type": "code",
   "execution_count": 36,
   "id": "e8ef0abd",
   "metadata": {},
   "outputs": [],
   "source": [
    "# Tendo agora Ponto ao inves de Virgula, Vamos tornar esta coluna em FLOAT\n",
    "df.Valor = df.Valor.astype(float)"
   ]
  },
  {
   "cell_type": "code",
   "execution_count": 37,
   "id": "828bd790",
   "metadata": {},
   "outputs": [
    {
     "data": {
      "text/plain": [
       "0    300.0\n",
       "1    200.0\n",
       "2    160.0\n",
       "3    300.0\n",
       "4    200.0\n",
       "5    300.0\n",
       "6     80.0\n",
       "7    400.0\n",
       "8    200.0\n",
       "Name: Valor, dtype: float64"
      ]
     },
     "execution_count": 37,
     "metadata": {},
     "output_type": "execute_result"
    }
   ],
   "source": [
    "df.Valor"
   ]
  },
  {
   "cell_type": "code",
   "execution_count": 38,
   "id": "d03aa782",
   "metadata": {},
   "outputs": [
    {
     "data": {
      "text/plain": [
       "dtype('float64')"
      ]
     },
     "execution_count": 38,
     "metadata": {},
     "output_type": "execute_result"
    }
   ],
   "source": [
    "# cONVERTEMOS\n",
    "df[\"Valor\"].dtype"
   ]
  },
  {
   "cell_type": "code",
   "execution_count": 39,
   "id": "c1c117c4",
   "metadata": {},
   "outputs": [],
   "source": [
    "df.rename(columns={'Embarque':'Dia_Embarque'}, inplace=True)"
   ]
  },
  {
   "cell_type": "code",
   "execution_count": 40,
   "id": "f099c574",
   "metadata": {},
   "outputs": [
    {
     "data": {
      "text/plain": [
       "0          Sábado\n",
       "1    Quarta-Feira\n",
       "2    Quarta-Feira\n",
       "3         Domingo\n",
       "4    Quarta-Feira\n",
       "5          Sábado\n",
       "6    Quinta-Feira\n",
       "7          Sábado\n",
       "8    Quinta-Feira\n",
       "Name: Dia_Embarque, dtype: object"
      ]
     },
     "execution_count": 40,
     "metadata": {},
     "output_type": "execute_result"
    }
   ],
   "source": [
    "df.Dia_Embarque"
   ]
  },
  {
   "cell_type": "code",
   "execution_count": 43,
   "id": "1369ccc9",
   "metadata": {},
   "outputs": [],
   "source": [
    "# Pandas tornar Coluna Data em formato Date_Time\n",
    "df.Date = pd.to_datetime(df.Date, format=\"%d-%m-%Y\")"
   ]
  },
  {
   "cell_type": "code",
   "execution_count": 49,
   "id": "df35257c",
   "metadata": {},
   "outputs": [],
   "source": [
    "df.rename(columns={'Date':'Data'}, inplace=True)"
   ]
  },
  {
   "cell_type": "code",
   "execution_count": 48,
   "id": "785bfb00",
   "metadata": {},
   "outputs": [
    {
     "name": "stdout",
     "output_type": "stream",
     "text": [
      "<class 'pandas.core.frame.DataFrame'>\n",
      "RangeIndex: 9 entries, 0 to 8\n",
      "Data columns (total 6 columns):\n",
      " #   Column        Non-Null Count  Dtype         \n",
      "---  ------        --------------  -----         \n",
      " 0   Categoria     9 non-null      int64         \n",
      " 1   Genero        9 non-null      int64         \n",
      " 2   Idade         9 non-null      int64         \n",
      " 3   Valor         9 non-null      float64       \n",
      " 4   Dia_Embarque  9 non-null      object        \n",
      " 5   Date          9 non-null      datetime64[ns]\n",
      "dtypes: datetime64[ns](1), float64(1), int64(3), object(1)\n",
      "memory usage: 560.0+ bytes\n"
     ]
    }
   ],
   "source": [
    "# Formato DateTime para coluna Data\n",
    "df.info()"
   ]
  },
  {
   "cell_type": "code",
   "execution_count": 50,
   "id": "9ff89794",
   "metadata": {},
   "outputs": [
    {
     "data": {
      "text/plain": [
       "0   2019-01-05\n",
       "1   2019-01-02\n",
       "2   2019-01-02\n",
       "3   2019-01-06\n",
       "4   2019-01-16\n",
       "5   2019-01-12\n",
       "6   2019-01-17\n",
       "7   2019-01-12\n",
       "8   2019-01-10\n",
       "Name: Data, dtype: datetime64[ns]"
      ]
     },
     "execution_count": 50,
     "metadata": {},
     "output_type": "execute_result"
    }
   ],
   "source": [
    "df.Data"
   ]
  },
  {
   "cell_type": "code",
   "execution_count": null,
   "id": "9637b030",
   "metadata": {},
   "outputs": [],
   "source": []
  }
 ],
 "metadata": {
  "kernelspec": {
   "display_name": "Python 3 (ipykernel)",
   "language": "python",
   "name": "python3"
  },
  "language_info": {
   "codemirror_mode": {
    "name": "ipython",
    "version": 3
   },
   "file_extension": ".py",
   "mimetype": "text/x-python",
   "name": "python",
   "nbconvert_exporter": "python",
   "pygments_lexer": "ipython3",
   "version": "3.9.12"
  }
 },
 "nbformat": 4,
 "nbformat_minor": 5
}
