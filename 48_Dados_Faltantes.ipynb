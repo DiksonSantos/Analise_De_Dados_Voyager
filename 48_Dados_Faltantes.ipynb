{
 "cells": [
  {
   "cell_type": "code",
   "execution_count": 59,
   "id": "9ed8e8d5",
   "metadata": {},
   "outputs": [],
   "source": [
    "import pandas as pd\n",
    "import warnings\n",
    "warnings.filterwarnings('ignore')\n",
    "\n",
    "import seaborn as sns\n",
    "\n",
    "import missingno "
   ]
  },
  {
   "cell_type": "code",
   "execution_count": 2,
   "id": "63fa4f42",
   "metadata": {},
   "outputs": [],
   "source": [
    "df = pd.read_csv(\"Casas_Dados_Faltantes.csv\")"
   ]
  },
  {
   "cell_type": "code",
   "execution_count": 3,
   "id": "2c61df1b",
   "metadata": {},
   "outputs": [
    {
     "data": {
      "text/html": [
       "<div>\n",
       "<style scoped>\n",
       "    .dataframe tbody tr th:only-of-type {\n",
       "        vertical-align: middle;\n",
       "    }\n",
       "\n",
       "    .dataframe tbody tr th {\n",
       "        vertical-align: top;\n",
       "    }\n",
       "\n",
       "    .dataframe thead th {\n",
       "        text-align: right;\n",
       "    }\n",
       "</style>\n",
       "<table border=\"1\" class=\"dataframe\">\n",
       "  <thead>\n",
       "    <tr style=\"text-align: right;\">\n",
       "      <th></th>\n",
       "      <th>cidade</th>\n",
       "      <th>area</th>\n",
       "      <th>quartos</th>\n",
       "      <th>banheiro</th>\n",
       "      <th>vagas_estacionamento</th>\n",
       "      <th>andar</th>\n",
       "      <th>valor_total</th>\n",
       "    </tr>\n",
       "  </thead>\n",
       "  <tbody>\n",
       "    <tr>\n",
       "      <th>0</th>\n",
       "      <td>São Paulo</td>\n",
       "      <td>70.0</td>\n",
       "      <td>2.0</td>\n",
       "      <td>1.0</td>\n",
       "      <td>1</td>\n",
       "      <td>7</td>\n",
       "      <td>5618.0</td>\n",
       "    </tr>\n",
       "    <tr>\n",
       "      <th>1</th>\n",
       "      <td>São Paulo</td>\n",
       "      <td>NaN</td>\n",
       "      <td>4.0</td>\n",
       "      <td>4.0</td>\n",
       "      <td>0</td>\n",
       "      <td>20</td>\n",
       "      <td>7973.0</td>\n",
       "    </tr>\n",
       "    <tr>\n",
       "      <th>2</th>\n",
       "      <td>Porto Alegre</td>\n",
       "      <td>80.0</td>\n",
       "      <td>1.0</td>\n",
       "      <td>1.0</td>\n",
       "      <td>1</td>\n",
       "      <td>6</td>\n",
       "      <td>3841.0</td>\n",
       "    </tr>\n",
       "    <tr>\n",
       "      <th>3</th>\n",
       "      <td>Porto Alegre</td>\n",
       "      <td>51.0</td>\n",
       "      <td>2.0</td>\n",
       "      <td>1.0</td>\n",
       "      <td>0</td>\n",
       "      <td>2</td>\n",
       "      <td>1421.0</td>\n",
       "    </tr>\n",
       "    <tr>\n",
       "      <th>4</th>\n",
       "      <td>São Paulo</td>\n",
       "      <td>25.0</td>\n",
       "      <td>NaN</td>\n",
       "      <td>NaN</td>\n",
       "      <td>0</td>\n",
       "      <td>1</td>\n",
       "      <td>836.0</td>\n",
       "    </tr>\n",
       "  </tbody>\n",
       "</table>\n",
       "</div>"
      ],
      "text/plain": [
       "         cidade  area  quartos  banheiro  vagas_estacionamento andar  \\\n",
       "0     São Paulo  70.0      2.0       1.0                     1     7   \n",
       "1     São Paulo   NaN      4.0       4.0                     0    20   \n",
       "2  Porto Alegre  80.0      1.0       1.0                     1     6   \n",
       "3  Porto Alegre  51.0      2.0       1.0                     0     2   \n",
       "4     São Paulo  25.0      NaN       NaN                     0     1   \n",
       "\n",
       "   valor_total  \n",
       "0       5618.0  \n",
       "1       7973.0  \n",
       "2       3841.0  \n",
       "3       1421.0  \n",
       "4        836.0  "
      ]
     },
     "execution_count": 3,
     "metadata": {},
     "output_type": "execute_result"
    }
   ],
   "source": [
    "# Dados faltantes são apresentados como 'NaN'\n",
    "df.head()"
   ]
  },
  {
   "cell_type": "code",
   "execution_count": 4,
   "id": "37e1b93f",
   "metadata": {},
   "outputs": [
    {
     "data": {
      "text/html": [
       "<div>\n",
       "<style scoped>\n",
       "    .dataframe tbody tr th:only-of-type {\n",
       "        vertical-align: middle;\n",
       "    }\n",
       "\n",
       "    .dataframe tbody tr th {\n",
       "        vertical-align: top;\n",
       "    }\n",
       "\n",
       "    .dataframe thead th {\n",
       "        text-align: right;\n",
       "    }\n",
       "</style>\n",
       "<table border=\"1\" class=\"dataframe\">\n",
       "  <thead>\n",
       "    <tr style=\"text-align: right;\">\n",
       "      <th></th>\n",
       "      <th>cidade</th>\n",
       "      <th>area</th>\n",
       "      <th>quartos</th>\n",
       "      <th>banheiro</th>\n",
       "      <th>vagas_estacionamento</th>\n",
       "      <th>andar</th>\n",
       "      <th>valor_total</th>\n",
       "    </tr>\n",
       "  </thead>\n",
       "  <tbody>\n",
       "    <tr>\n",
       "      <th>0</th>\n",
       "      <td>False</td>\n",
       "      <td>False</td>\n",
       "      <td>False</td>\n",
       "      <td>False</td>\n",
       "      <td>False</td>\n",
       "      <td>False</td>\n",
       "      <td>False</td>\n",
       "    </tr>\n",
       "    <tr>\n",
       "      <th>1</th>\n",
       "      <td>False</td>\n",
       "      <td>True</td>\n",
       "      <td>False</td>\n",
       "      <td>False</td>\n",
       "      <td>False</td>\n",
       "      <td>False</td>\n",
       "      <td>False</td>\n",
       "    </tr>\n",
       "    <tr>\n",
       "      <th>2</th>\n",
       "      <td>False</td>\n",
       "      <td>False</td>\n",
       "      <td>False</td>\n",
       "      <td>False</td>\n",
       "      <td>False</td>\n",
       "      <td>False</td>\n",
       "      <td>False</td>\n",
       "    </tr>\n",
       "    <tr>\n",
       "      <th>3</th>\n",
       "      <td>False</td>\n",
       "      <td>False</td>\n",
       "      <td>False</td>\n",
       "      <td>False</td>\n",
       "      <td>False</td>\n",
       "      <td>False</td>\n",
       "      <td>False</td>\n",
       "    </tr>\n",
       "    <tr>\n",
       "      <th>4</th>\n",
       "      <td>False</td>\n",
       "      <td>False</td>\n",
       "      <td>True</td>\n",
       "      <td>True</td>\n",
       "      <td>False</td>\n",
       "      <td>False</td>\n",
       "      <td>False</td>\n",
       "    </tr>\n",
       "    <tr>\n",
       "      <th>5</th>\n",
       "      <td>False</td>\n",
       "      <td>False</td>\n",
       "      <td>False</td>\n",
       "      <td>False</td>\n",
       "      <td>False</td>\n",
       "      <td>False</td>\n",
       "      <td>False</td>\n",
       "    </tr>\n",
       "    <tr>\n",
       "      <th>6</th>\n",
       "      <td>False</td>\n",
       "      <td>False</td>\n",
       "      <td>False</td>\n",
       "      <td>False</td>\n",
       "      <td>False</td>\n",
       "      <td>False</td>\n",
       "      <td>True</td>\n",
       "    </tr>\n",
       "    <tr>\n",
       "      <th>7</th>\n",
       "      <td>False</td>\n",
       "      <td>False</td>\n",
       "      <td>False</td>\n",
       "      <td>False</td>\n",
       "      <td>False</td>\n",
       "      <td>False</td>\n",
       "      <td>False</td>\n",
       "    </tr>\n",
       "    <tr>\n",
       "      <th>8</th>\n",
       "      <td>False</td>\n",
       "      <td>False</td>\n",
       "      <td>False</td>\n",
       "      <td>False</td>\n",
       "      <td>False</td>\n",
       "      <td>False</td>\n",
       "      <td>False</td>\n",
       "    </tr>\n",
       "    <tr>\n",
       "      <th>9</th>\n",
       "      <td>False</td>\n",
       "      <td>True</td>\n",
       "      <td>False</td>\n",
       "      <td>False</td>\n",
       "      <td>False</td>\n",
       "      <td>False</td>\n",
       "      <td>False</td>\n",
       "    </tr>\n",
       "    <tr>\n",
       "      <th>10</th>\n",
       "      <td>False</td>\n",
       "      <td>False</td>\n",
       "      <td>False</td>\n",
       "      <td>False</td>\n",
       "      <td>False</td>\n",
       "      <td>False</td>\n",
       "      <td>True</td>\n",
       "    </tr>\n",
       "    <tr>\n",
       "      <th>11</th>\n",
       "      <td>False</td>\n",
       "      <td>False</td>\n",
       "      <td>False</td>\n",
       "      <td>False</td>\n",
       "      <td>False</td>\n",
       "      <td>False</td>\n",
       "      <td>False</td>\n",
       "    </tr>\n",
       "    <tr>\n",
       "      <th>12</th>\n",
       "      <td>False</td>\n",
       "      <td>False</td>\n",
       "      <td>False</td>\n",
       "      <td>False</td>\n",
       "      <td>False</td>\n",
       "      <td>False</td>\n",
       "      <td>False</td>\n",
       "    </tr>\n",
       "    <tr>\n",
       "      <th>13</th>\n",
       "      <td>False</td>\n",
       "      <td>False</td>\n",
       "      <td>False</td>\n",
       "      <td>False</td>\n",
       "      <td>False</td>\n",
       "      <td>False</td>\n",
       "      <td>False</td>\n",
       "    </tr>\n",
       "    <tr>\n",
       "      <th>14</th>\n",
       "      <td>False</td>\n",
       "      <td>False</td>\n",
       "      <td>False</td>\n",
       "      <td>False</td>\n",
       "      <td>False</td>\n",
       "      <td>False</td>\n",
       "      <td>False</td>\n",
       "    </tr>\n",
       "    <tr>\n",
       "      <th>15</th>\n",
       "      <td>False</td>\n",
       "      <td>False</td>\n",
       "      <td>False</td>\n",
       "      <td>False</td>\n",
       "      <td>False</td>\n",
       "      <td>False</td>\n",
       "      <td>False</td>\n",
       "    </tr>\n",
       "  </tbody>\n",
       "</table>\n",
       "</div>"
      ],
      "text/plain": [
       "    cidade   area  quartos  banheiro  vagas_estacionamento  andar  valor_total\n",
       "0    False  False    False     False                 False  False        False\n",
       "1    False   True    False     False                 False  False        False\n",
       "2    False  False    False     False                 False  False        False\n",
       "3    False  False    False     False                 False  False        False\n",
       "4    False  False     True      True                 False  False        False\n",
       "5    False  False    False     False                 False  False        False\n",
       "6    False  False    False     False                 False  False         True\n",
       "7    False  False    False     False                 False  False        False\n",
       "8    False  False    False     False                 False  False        False\n",
       "9    False   True    False     False                 False  False        False\n",
       "10   False  False    False     False                 False  False         True\n",
       "11   False  False    False     False                 False  False        False\n",
       "12   False  False    False     False                 False  False        False\n",
       "13   False  False    False     False                 False  False        False\n",
       "14   False  False    False     False                 False  False        False\n",
       "15   False  False    False     False                 False  False        False"
      ]
     },
     "execution_count": 4,
     "metadata": {},
     "output_type": "execute_result"
    }
   ],
   "source": [
    "# CELULAS FALTANTES SERÃO DESCRITAS COMO ' True'\n",
    "df.isnull()"
   ]
  },
  {
   "cell_type": "code",
   "execution_count": 8,
   "id": "6230053c",
   "metadata": {},
   "outputs": [
    {
     "data": {
      "text/plain": [
       "cidade                  0\n",
       "area                    2\n",
       "quartos                 1\n",
       "banheiro                1\n",
       "vagas_estacionamento    0\n",
       "andar                   0\n",
       "valor_total             2\n",
       "dtype: int64"
      ]
     },
     "metadata": {},
     "output_type": "display_data"
    }
   ],
   "source": [
    "# SOMA DE VALORES NULOS POR COLUNA:\n",
    "v_null = df.isnull().sum()\n",
    "display(v_null)"
   ]
  },
  {
   "cell_type": "code",
   "execution_count": 9,
   "id": "2993c38a",
   "metadata": {},
   "outputs": [
    {
     "data": {
      "text/plain": [
       "area                    2\n",
       "valor_total             2\n",
       "quartos                 1\n",
       "banheiro                1\n",
       "cidade                  0\n",
       "vagas_estacionamento    0\n",
       "andar                   0\n",
       "dtype: int64"
      ]
     },
     "execution_count": 9,
     "metadata": {},
     "output_type": "execute_result"
    }
   ],
   "source": [
    "# PEGA A COLUNA COM MAIS DADOS FALTANTES:\n",
    "df.isnull().sum().sort_values(ascending=False)"
   ]
  },
  {
   "cell_type": "code",
   "execution_count": 16,
   "id": "8162717f",
   "metadata": {},
   "outputs": [
    {
     "data": {
      "text/html": [
       "<div>\n",
       "<style scoped>\n",
       "    .dataframe tbody tr th:only-of-type {\n",
       "        vertical-align: middle;\n",
       "    }\n",
       "\n",
       "    .dataframe tbody tr th {\n",
       "        vertical-align: top;\n",
       "    }\n",
       "\n",
       "    .dataframe thead th {\n",
       "        text-align: right;\n",
       "    }\n",
       "</style>\n",
       "<table border=\"1\" class=\"dataframe\">\n",
       "  <thead>\n",
       "    <tr style=\"text-align: right;\">\n",
       "      <th></th>\n",
       "      <th>cidade</th>\n",
       "      <th>area</th>\n",
       "      <th>quartos</th>\n",
       "      <th>banheiro</th>\n",
       "      <th>vagas_estacionamento</th>\n",
       "      <th>andar</th>\n",
       "      <th>valor_total</th>\n",
       "    </tr>\n",
       "  </thead>\n",
       "  <tbody>\n",
       "    <tr>\n",
       "      <th>1</th>\n",
       "      <td>São Paulo</td>\n",
       "      <td>NaN</td>\n",
       "      <td>4.0</td>\n",
       "      <td>4.0</td>\n",
       "      <td>0</td>\n",
       "      <td>20</td>\n",
       "      <td>7973.0</td>\n",
       "    </tr>\n",
       "    <tr>\n",
       "      <th>4</th>\n",
       "      <td>São Paulo</td>\n",
       "      <td>25.0</td>\n",
       "      <td>NaN</td>\n",
       "      <td>NaN</td>\n",
       "      <td>0</td>\n",
       "      <td>1</td>\n",
       "      <td>836.0</td>\n",
       "    </tr>\n",
       "    <tr>\n",
       "      <th>6</th>\n",
       "      <td>Rio de Janeiro</td>\n",
       "      <td>72.0</td>\n",
       "      <td>2.0</td>\n",
       "      <td>1.0</td>\n",
       "      <td>0</td>\n",
       "      <td>7</td>\n",
       "      <td>NaN</td>\n",
       "    </tr>\n",
       "    <tr>\n",
       "      <th>9</th>\n",
       "      <td>Rio de Janeiro</td>\n",
       "      <td>NaN</td>\n",
       "      <td>1.0</td>\n",
       "      <td>1.0</td>\n",
       "      <td>0</td>\n",
       "      <td>2</td>\n",
       "      <td>2955.0</td>\n",
       "    </tr>\n",
       "    <tr>\n",
       "      <th>10</th>\n",
       "      <td>São Paulo</td>\n",
       "      <td>26.0</td>\n",
       "      <td>1.0</td>\n",
       "      <td>1.0</td>\n",
       "      <td>0</td>\n",
       "      <td>2</td>\n",
       "      <td>NaN</td>\n",
       "    </tr>\n",
       "  </tbody>\n",
       "</table>\n",
       "</div>"
      ],
      "text/plain": [
       "            cidade  area  quartos  banheiro  vagas_estacionamento andar  \\\n",
       "1        São Paulo   NaN      4.0       4.0                     0    20   \n",
       "4        São Paulo  25.0      NaN       NaN                     0     1   \n",
       "6   Rio de Janeiro  72.0      2.0       1.0                     0     7   \n",
       "9   Rio de Janeiro   NaN      1.0       1.0                     0     2   \n",
       "10       São Paulo  26.0      1.0       1.0                     0     2   \n",
       "\n",
       "    valor_total  \n",
       "1        7973.0  \n",
       "4         836.0  \n",
       "6           NaN  \n",
       "9        2955.0  \n",
       "10          NaN  "
      ]
     },
     "metadata": {},
     "output_type": "display_data"
    }
   ],
   "source": [
    "# PROCURA VERTICALMENTE (Axis=1) DADOS FALTANTES NO DATAFRAME\n",
    "# Traz todas as observações onde ao menos um dado da coluna é faltante:\n",
    "dados_faltantes = df[df.isnull().any(axis = 1)].head()\n",
    "display(dados_faltantes)"
   ]
  },
  {
   "cell_type": "code",
   "execution_count": 17,
   "id": "cc0cc1f5",
   "metadata": {},
   "outputs": [
    {
     "data": {
      "text/plain": [
       "(16, 7)"
      ]
     },
     "execution_count": 17,
     "metadata": {},
     "output_type": "execute_result"
    }
   ],
   "source": [
    "# LINHAS X COLUNAS:\n",
    "df.shape"
   ]
  },
  {
   "cell_type": "code",
   "execution_count": 18,
   "id": "691d8cef",
   "metadata": {},
   "outputs": [],
   "source": [
    "# EMPACOTAMENTO -> LINHAS X COLUNAS em VARIAVEIS\n",
    "linhas, colunas = df.shape"
   ]
  },
  {
   "cell_type": "code",
   "execution_count": 20,
   "id": "6aa2cde5",
   "metadata": {},
   "outputs": [
    {
     "name": "stdout",
     "output_type": "stream",
     "text": [
      "Linhas: 16 Colunas: 7\n"
     ]
    }
   ],
   "source": [
    "print(\"Linhas:\", linhas, \"Colunas:\",colunas)"
   ]
  },
  {
   "cell_type": "code",
   "execution_count": 45,
   "id": "1ec6c47a",
   "metadata": {},
   "outputs": [
    {
     "name": "stdout",
     "output_type": "stream",
     "text": [
      "cidade                   0.00\n",
      "area                    12.50\n",
      "quartos                  6.25\n",
      "banheiro                 6.25\n",
      "vagas_estacionamento     0.00\n",
      "andar                    0.00\n",
      "valor_total             12.50\n",
      "dtype: float64\n"
     ]
    }
   ],
   "source": [
    "calculo = (df.isnull().sum() / linhas) * 100\n",
    "#percentual_de_faltantes = (f\"{calculo}\")\n",
    "print((f\"{calculo}\"))\n",
    "#display(percentual_de_faltantes)"
   ]
  },
  {
   "cell_type": "code",
   "execution_count": 47,
   "id": "effcfbb3",
   "metadata": {},
   "outputs": [
    {
     "data": {
      "text/plain": [
       "cidade                  0\n",
       "area                    2\n",
       "quartos                 1\n",
       "banheiro                1\n",
       "vagas_estacionamento    0\n",
       "andar                   0\n",
       "valor_total             2\n",
       "dtype: int64"
      ]
     },
     "execution_count": 47,
     "metadata": {},
     "output_type": "execute_result"
    }
   ],
   "source": [
    "# 'Isna'  Mesma função, nome diferente:\n",
    "df.isna().sum()"
   ]
  },
  {
   "cell_type": "code",
   "execution_count": 51,
   "id": "75d0d5de",
   "metadata": {},
   "outputs": [
    {
     "data": {
      "text/plain": [
       "cidade                  16\n",
       "area                    14\n",
       "quartos                 15\n",
       "banheiro                15\n",
       "vagas_estacionamento    16\n",
       "andar                   16\n",
       "valor_total             14\n",
       "dtype: int64"
      ]
     },
     "execution_count": 51,
     "metadata": {},
     "output_type": "execute_result"
    }
   ],
   "source": [
    "# CONTRARIO -> DADOS NÃO FALTANTES !\n",
    "# SOMA DOS DADOS NÃO FALTANTES:\n",
    "df.notna().sum()"
   ]
  },
  {
   "cell_type": "markdown",
   "id": "6bd7fc7b",
   "metadata": {},
   "source": [
    "## Desative o Dark Reader mode para ver as legendas dos Gráficos:"
   ]
  },
  {
   "cell_type": "code",
   "execution_count": 58,
   "id": "d410df8d",
   "metadata": {},
   "outputs": [
    {
     "data": {
      "text/plain": [
       "<AxesSubplot: >"
      ]
     },
     "execution_count": 58,
     "metadata": {},
     "output_type": "execute_result"
    },
    {
     "data": {
      "image/png": "[encoded data removed]",
      "text/plain": [
       "<Figure size 2880x1440 with 2 Axes>"
      ]
     },
     "metadata": {
      "needs_background": "light"
     },
     "output_type": "display_data"
    }
   ],
   "source": [
    "# AS AREAS EM BRANCO CORRESPONDEM A DADOS FALTANTES NO DATAFRAME:\n",
    "missingno.matrix(df, figsize=(40,20))"
   ]
  },
  {
   "cell_type": "code",
   "execution_count": 60,
   "id": "cb80c2f2",
   "metadata": {},
   "outputs": [
    {
     "data": {
      "text/plain": [
       "<AxesSubplot: >"
      ]
     },
     "execution_count": 60,
     "metadata": {},
     "output_type": "execute_result"
    },
    {
     "data": {
      "image/png": "[encoded data removed]",
      "text/plain": [
       "<Figure size 432x288 with 2 Axes>"
      ]
     },
     "metadata": {
      "needs_background": "light"
     },
     "output_type": "display_data"
    }
   ],
   "source": [
    "sns.heatmap(df.isnull())"
   ]
  },
  {
   "cell_type": "code",
   "execution_count": null,
   "id": "8f771668",
   "metadata": {},
   "outputs": [],
   "source": []
  }
 ],
 "metadata": {
  "kernelspec": {
   "display_name": "Python 3 (ipykernel)",
   "language": "python",
   "name": "python3"
  },
  "language_info": {
   "codemirror_mode": {
    "name": "ipython",
    "version": 3
   },
   "file_extension": ".py",
   "mimetype": "text/x-python",
   "name": "python",
   "nbconvert_exporter": "python",
   "pygments_lexer": "ipython3",
   "version": "3.9.12"
  }
 },
 "nbformat": 4,
 "nbformat_minor": 5
}
