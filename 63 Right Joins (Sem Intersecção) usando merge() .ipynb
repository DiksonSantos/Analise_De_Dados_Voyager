{
 "cells": [
  {
   "cell_type": "code",
   "execution_count": 1,
   "id": "9b02a76f",
   "metadata": {},
   "outputs": [],
   "source": [
    "import pandas as pd"
   ]
  },
  {
   "cell_type": "code",
   "execution_count": 2,
   "id": "8fc75621",
   "metadata": {},
   "outputs": [],
   "source": [
    "df_2008 = pd.read_csv('ath_2008.csv')"
   ]
  },
  {
   "cell_type": "code",
   "execution_count": 3,
   "id": "a981a188",
   "metadata": {},
   "outputs": [],
   "source": [
    "df_2012 = pd.read_csv('ath_2012.csv')"
   ]
  },
  {
   "cell_type": "code",
   "execution_count": 12,
   "id": "a411b09a",
   "metadata": {},
   "outputs": [
    {
     "data": {
      "text/plain": [
       "right_only    139\n",
       "both           32\n",
       "left_only       0\n",
       "Name: _merge, dtype: int64"
      ]
     },
     "execution_count": 12,
     "metadata": {},
     "output_type": "execute_result"
    }
   ],
   "source": [
    "# outer joins\n",
    "df_merge_Right = df_2008.merge(df_2012, how='right', on='Athlete', suffixes=('_2008','_2012'), indicator=True)\n",
    "\n",
    "# df_merge_Right._merge.value_counts() # 139\n",
    "\n",
    "df_merge_Right\n",
    "\n",
    "\n",
    "#how{‘left’, ‘right’, ‘outer’, ‘inner’, ‘cross’}, default ‘inner’\n",
    "\n",
    "# https://pandas.pydata.org/pandas-docs/stable/reference/api/pandas.DataFrame.merge.html"
   ]
  },
  {
   "cell_type": "code",
   "execution_count": 6,
   "id": "9d127d81",
   "metadata": {},
   "outputs": [],
   "source": [
    "\n",
    "df_merge_outer = df_2008.merge(df_2012, how='outer', on='Athlete', suffixes=('_2008','_2012'), indicator=True)\n",
    "\n"
   ]
  },
  {
   "cell_type": "code",
   "execution_count": 11,
   "id": "205503c9",
   "metadata": {},
   "outputs": [
    {
     "data": {
      "text/plain": [
       "right_only    139\n",
       "left_only       0\n",
       "both            0\n",
       "Name: _merge, dtype: int64"
      ]
     },
     "execution_count": 11,
     "metadata": {},
     "output_type": "execute_result"
    }
   ],
   "source": [
    "# Trazer deste DF na coluna _merge apenas os valores/Strings 'right_only'\n",
    "\n",
    "right_only = df_merge_outer[df_merge_outer._merge == \"right_only\"]\n",
    "\n",
    "#right_only.head(25)\n",
    "\n",
    "\n",
    "right_only._merge.value_counts()"
   ]
  },
  {
   "cell_type": "code",
   "execution_count": null,
   "id": "3a39825c",
   "metadata": {},
   "outputs": [],
   "source": []
  }
 ],
 "metadata": {
  "kernelspec": {
   "display_name": "Python 3 (ipykernel)",
   "language": "python",
   "name": "python3"
  },
  "language_info": {
   "codemirror_mode": {
    "name": "ipython",
    "version": 3
   },
   "file_extension": ".py",
   "mimetype": "text/x-python",
   "name": "python",
   "nbconvert_exporter": "python",
   "pygments_lexer": "ipython3",
   "version": "3.9.13"
  }
 },
 "nbformat": 4,
 "nbformat_minor": 5
}
