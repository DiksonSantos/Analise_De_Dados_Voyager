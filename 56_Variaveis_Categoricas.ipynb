{
 "cells": [
  {
   "cell_type": "code",
   "execution_count": 2,
   "id": "b732d497",
   "metadata": {},
   "outputs": [],
   "source": [
    "import pandas as pd"
   ]
  },
  {
   "cell_type": "code",
   "execution_count": 3,
   "id": "2f400718",
   "metadata": {},
   "outputs": [],
   "source": [
    "df = pd.read_csv(\"Passageiros.csv\")"
   ]
  },
  {
   "cell_type": "code",
   "execution_count": 4,
   "id": "4dfacaeb",
   "metadata": {},
   "outputs": [
    {
     "name": "stdout",
     "output_type": "stream",
     "text": [
      "<class 'pandas.core.frame.DataFrame'>\n",
      "RangeIndex: 9 entries, 0 to 8\n",
      "Data columns (total 6 columns):\n",
      " #   Column     Non-Null Count  Dtype  \n",
      "---  ------     --------------  -----  \n",
      " 0   Categoria  9 non-null      int64  \n",
      " 1   Gênero     9 non-null      object \n",
      " 2   Idade      9 non-null      float64\n",
      " 3   Valor      9 non-null      object \n",
      " 4   Embarque   9 non-null      object \n",
      " 5   Date       9 non-null      object \n",
      "dtypes: float64(1), int64(1), object(4)\n",
      "memory usage: 560.0+ bytes\n"
     ]
    }
   ],
   "source": [
    "df.info()"
   ]
  },
  {
   "cell_type": "code",
   "execution_count": 9,
   "id": "30353e6c",
   "metadata": {},
   "outputs": [
    {
     "data": {
      "text/plain": [
       "dtype('float64')"
      ]
     },
     "execution_count": 9,
     "metadata": {},
     "output_type": "execute_result"
    }
   ],
   "source": [
    "df.Idade.dtype\n"
   ]
  },
  {
   "cell_type": "code",
   "execution_count": 13,
   "id": "58bf63da",
   "metadata": {},
   "outputs": [],
   "source": [
    "# Mudar variavel do tipo Objeto para Categorica\n",
    "df.Gênero = df.Gênero.astype(\"category\")"
   ]
  },
  {
   "cell_type": "code",
   "execution_count": 14,
   "id": "ee0ba7b9",
   "metadata": {},
   "outputs": [
    {
     "data": {
      "text/plain": [
       "CategoricalDtype(categories=['Feminino', 'Masculino'], ordered=False)"
      ]
     },
     "execution_count": 14,
     "metadata": {},
     "output_type": "execute_result"
    }
   ],
   "source": [
    "df.Gênero.dtype"
   ]
  },
  {
   "cell_type": "code",
   "execution_count": 15,
   "id": "b4b87b79",
   "metadata": {},
   "outputs": [
    {
     "name": "stdout",
     "output_type": "stream",
     "text": [
      "<class 'pandas.core.frame.DataFrame'>\n",
      "RangeIndex: 9 entries, 0 to 8\n",
      "Data columns (total 6 columns):\n",
      " #   Column     Non-Null Count  Dtype   \n",
      "---  ------     --------------  -----   \n",
      " 0   Categoria  9 non-null      int64   \n",
      " 1   Gênero     9 non-null      category\n",
      " 2   Idade      9 non-null      float64 \n",
      " 3   Valor      9 non-null      object  \n",
      " 4   Embarque   9 non-null      object  \n",
      " 5   Date       9 non-null      object  \n",
      "dtypes: category(1), float64(1), int64(1), object(3)\n",
      "memory usage: 621.0+ bytes\n"
     ]
    }
   ],
   "source": [
    "# Agora a coluna Gênero é Categorica:\n",
    "df.info()"
   ]
  },
  {
   "cell_type": "markdown",
   "id": "ec22c801",
   "metadata": {},
   "source": [
    "# Nova forma de converter:"
   ]
  },
  {
   "cell_type": "code",
   "execution_count": 16,
   "id": "26445f72",
   "metadata": {},
   "outputs": [],
   "source": [
    "df_2 = pd.read_csv(\"Passageiros.csv\")"
   ]
  },
  {
   "cell_type": "code",
   "execution_count": 17,
   "id": "6918d4e1",
   "metadata": {},
   "outputs": [
    {
     "name": "stdout",
     "output_type": "stream",
     "text": [
      "<class 'pandas.core.frame.DataFrame'>\n",
      "RangeIndex: 9 entries, 0 to 8\n",
      "Data columns (total 6 columns):\n",
      " #   Column     Non-Null Count  Dtype  \n",
      "---  ------     --------------  -----  \n",
      " 0   Categoria  9 non-null      int64  \n",
      " 1   Gênero     9 non-null      object \n",
      " 2   Idade      9 non-null      float64\n",
      " 3   Valor      9 non-null      object \n",
      " 4   Embarque   9 non-null      object \n",
      " 5   Date       9 non-null      object \n",
      "dtypes: float64(1), int64(1), object(4)\n",
      "memory usage: 560.0+ bytes\n"
     ]
    }
   ],
   "source": [
    "df_2.info()"
   ]
  },
  {
   "cell_type": "code",
   "execution_count": 18,
   "id": "41406216",
   "metadata": {},
   "outputs": [],
   "source": [
    "df_2 = df_2.convert_dtypes()"
   ]
  },
  {
   "cell_type": "code",
   "execution_count": 19,
   "id": "e1651210",
   "metadata": {},
   "outputs": [
    {
     "name": "stdout",
     "output_type": "stream",
     "text": [
      "<class 'pandas.core.frame.DataFrame'>\n",
      "RangeIndex: 9 entries, 0 to 8\n",
      "Data columns (total 6 columns):\n",
      " #   Column     Non-Null Count  Dtype \n",
      "---  ------     --------------  ----- \n",
      " 0   Categoria  9 non-null      Int64 \n",
      " 1   Gênero     9 non-null      string\n",
      " 2   Idade      9 non-null      Int64 \n",
      " 3   Valor      9 non-null      string\n",
      " 4   Embarque   9 non-null      string\n",
      " 5   Date       9 non-null      string\n",
      "dtypes: Int64(2), string(4)\n",
      "memory usage: 578.0 bytes\n"
     ]
    }
   ],
   "source": [
    "# Converteu os 1Objects' para 'Strings' e a Idade (em Float) para Int64:\n",
    "#.. Tudo automaticamente;\n",
    "df_2.info()"
   ]
  },
  {
   "cell_type": "code",
   "execution_count": null,
   "id": "21a4ca7c",
   "metadata": {},
   "outputs": [],
   "source": []
  }
 ],
 "metadata": {
  "kernelspec": {
   "display_name": "Python 3 (ipykernel)",
   "language": "python",
   "name": "python3"
  },
  "language_info": {
   "codemirror_mode": {
    "name": "ipython",
    "version": 3
   },
   "file_extension": ".py",
   "mimetype": "text/x-python",
   "name": "python",
   "nbconvert_exporter": "python",
   "pygments_lexer": "ipython3",
   "version": "3.9.13"
  }
 },
 "nbformat": 4,
 "nbformat_minor": 5
}
