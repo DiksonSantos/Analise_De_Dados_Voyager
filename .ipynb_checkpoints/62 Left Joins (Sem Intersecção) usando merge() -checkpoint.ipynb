{
 "cells": [
  {
   "cell_type": "code",
   "execution_count": 1,
   "id": "b0406f24",
   "metadata": {},
   "outputs": [],
   "source": [
    "import pandas as pd"
   ]
  },
  {
   "cell_type": "code",
   "execution_count": 2,
   "id": "5fbca9c6",
   "metadata": {},
   "outputs": [],
   "source": [
    "df_2008 = pd.read_csv('ath_2008.csv')"
   ]
  },
  {
   "cell_type": "code",
   "execution_count": 3,
   "id": "30370e9b",
   "metadata": {},
   "outputs": [],
   "source": [
    "df_2012 = pd.read_csv('ath_2012.csv')"
   ]
  },
  {
   "cell_type": "code",
   "execution_count": 5,
   "id": "16ce1a7d",
   "metadata": {},
   "outputs": [],
   "source": [
    "# outer joins\n",
    "df_merge_outer = df_2008.merge(df_2012, how='outer', on='Athlete', suffixes=('_2008','_2012'), indicator=True)\n"
   ]
  },
  {
   "cell_type": "code",
   "execution_count": 17,
   "id": "2c68f908",
   "metadata": {},
   "outputs": [
    {
     "data": {
      "text/plain": [
       "left_only     127\n",
       "right_only      0\n",
       "both            0\n",
       "Name: _merge, dtype: int64"
      ]
     },
     "metadata": {},
     "output_type": "display_data"
    }
   ],
   "source": [
    "# TRAZ APENAS OS DADOS ORIUNDOS DA TABELA ESQUERDA, OU 2008:\n",
    "Left = df_merge_outer[df_merge_outer == \"left_only\"] # right_only , both\n",
    "display(Left._merge.value_counts())"
   ]
  },
  {
   "cell_type": "code",
   "execution_count": 16,
   "id": "a7d40b44",
   "metadata": {},
   "outputs": [
    {
     "data": {
      "text/plain": [
       "right_only    139\n",
       "left_only       0\n",
       "both            0\n",
       "Name: _merge, dtype: int64"
      ]
     },
     "metadata": {},
     "output_type": "display_data"
    }
   ],
   "source": [
    "# DIREITA\n",
    "Right = df_merge_outer[df_merge_outer == \"right_only\"]\n",
    "display(Right._merge.value_counts())"
   ]
  },
  {
   "cell_type": "code",
   "execution_count": 15,
   "id": "732a2bfc",
   "metadata": {},
   "outputs": [
    {
     "data": {
      "text/plain": [
       "both          32\n",
       "left_only      0\n",
       "right_only     0\n",
       "Name: _merge, dtype: int64"
      ]
     },
     "metadata": {},
     "output_type": "display_data"
    }
   ],
   "source": [
    "# INTERCESSÃO:\n",
    "Both = df_merge_outer[df_merge_outer == \"both\"]\n",
    "display(Both._merge.value_counts())"
   ]
  },
  {
   "cell_type": "code",
   "execution_count": 18,
   "id": "0c191522",
   "metadata": {},
   "outputs": [
    {
     "data": {
      "text/plain": [
       "right_only    139\n",
       "left_only     127\n",
       "both           32\n",
       "Name: _merge, dtype: int64"
      ]
     },
     "execution_count": 18,
     "metadata": {},
     "output_type": "execute_result"
    }
   ],
   "source": [
    "# TOTAL\n",
    "df_merge_outer._merge.value_counts()"
   ]
  },
  {
   "cell_type": "code",
   "execution_count": null,
   "id": "b3208926",
   "metadata": {},
   "outputs": [],
   "source": []
  }
 ],
 "metadata": {
  "kernelspec": {
   "display_name": "Python 3 (ipykernel)",
   "language": "python",
   "name": "python3"
  },
  "language_info": {
   "codemirror_mode": {
    "name": "ipython",
    "version": 3
   },
   "file_extension": ".py",
   "mimetype": "text/x-python",
   "name": "python",
   "nbconvert_exporter": "python",
   "pygments_lexer": "ipython3",
   "version": "3.9.13"
  }
 },
 "nbformat": 4,
 "nbformat_minor": 5
}
