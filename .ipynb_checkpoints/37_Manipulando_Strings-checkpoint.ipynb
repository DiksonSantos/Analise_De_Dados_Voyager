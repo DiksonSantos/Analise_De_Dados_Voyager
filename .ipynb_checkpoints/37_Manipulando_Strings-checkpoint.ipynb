{
 "cells": [
  {
   "cell_type": "code",
   "execution_count": 1,
   "id": "93daec33",
   "metadata": {},
   "outputs": [],
   "source": [
    "nome =\"Diskon Santos\""
   ]
  },
  {
   "cell_type": "code",
   "execution_count": 2,
   "id": "9598b005",
   "metadata": {},
   "outputs": [
    {
     "data": {
      "text/plain": [
       "str"
      ]
     },
     "execution_count": 2,
     "metadata": {},
     "output_type": "execute_result"
    }
   ],
   "source": [
    "type(nome)"
   ]
  },
  {
   "cell_type": "code",
   "execution_count": 3,
   "id": "c665beb9",
   "metadata": {},
   "outputs": [
    {
     "data": {
      "text/plain": [
       "13"
      ]
     },
     "execution_count": 3,
     "metadata": {},
     "output_type": "execute_result"
    }
   ],
   "source": [
    "len(nome)"
   ]
  },
  {
   "cell_type": "code",
   "execution_count": 4,
   "id": "c63d503d",
   "metadata": {},
   "outputs": [
    {
     "data": {
      "text/plain": [
       "['Diskon', 'Santos']"
      ]
     },
     "execution_count": 4,
     "metadata": {},
     "output_type": "execute_result"
    }
   ],
   "source": [
    "nome.split(\" \")"
   ]
  },
  {
   "cell_type": "code",
   "execution_count": 5,
   "id": "74ea7d28",
   "metadata": {},
   "outputs": [
    {
     "data": {
      "text/plain": [
       "'Diskon_Santos'"
      ]
     },
     "execution_count": 5,
     "metadata": {},
     "output_type": "execute_result"
    }
   ],
   "source": [
    "nome.replace(\" \", \"_\")"
   ]
  },
  {
   "cell_type": "code",
   "execution_count": 8,
   "id": "99c1769e",
   "metadata": {},
   "outputs": [],
   "source": [
    "import pandas as pd"
   ]
  },
  {
   "cell_type": "code",
   "execution_count": 9,
   "id": "aa364177",
   "metadata": {},
   "outputs": [],
   "source": [
    "df = pd.read_csv(\"campeonato-brasileiro-full.csv\")"
   ]
  },
  {
   "cell_type": "code",
   "execution_count": 13,
   "id": "b8ec7e77",
   "metadata": {},
   "outputs": [
    {
     "data": {
      "text/html": [
       "<div>\n",
       "<style scoped>\n",
       "    .dataframe tbody tr th:only-of-type {\n",
       "        vertical-align: middle;\n",
       "    }\n",
       "\n",
       "    .dataframe tbody tr th {\n",
       "        vertical-align: top;\n",
       "    }\n",
       "\n",
       "    .dataframe thead th {\n",
       "        text-align: right;\n",
       "    }\n",
       "</style>\n",
       "<table border=\"1\" class=\"dataframe\">\n",
       "  <thead>\n",
       "    <tr style=\"text-align: right;\">\n",
       "      <th></th>\n",
       "      <th>ID</th>\n",
       "      <th>Rodada</th>\n",
       "      <th>Data</th>\n",
       "      <th>Horário</th>\n",
       "      <th>Dia</th>\n",
       "      <th>Mandante</th>\n",
       "      <th>Visitante</th>\n",
       "      <th>Vencedor</th>\n",
       "      <th>Arena</th>\n",
       "      <th>Mandante Placar</th>\n",
       "      <th>Visitante Placar</th>\n",
       "      <th>Estado Mandante</th>\n",
       "      <th>Estado Visitante</th>\n",
       "      <th>Estado Vencedor</th>\n",
       "    </tr>\n",
       "  </thead>\n",
       "  <tbody>\n",
       "    <tr>\n",
       "      <th>0</th>\n",
       "      <td>1</td>\n",
       "      <td>1</td>\n",
       "      <td>2000-07-29</td>\n",
       "      <td>16h00</td>\n",
       "      <td>Sábado</td>\n",
       "      <td>Fluminense</td>\n",
       "      <td>Bahia</td>\n",
       "      <td>Fluminense</td>\n",
       "      <td>Maracanã</td>\n",
       "      <td>2</td>\n",
       "      <td>0</td>\n",
       "      <td>RJ</td>\n",
       "      <td>BA</td>\n",
       "      <td>RJ</td>\n",
       "    </tr>\n",
       "    <tr>\n",
       "      <th>1</th>\n",
       "      <td>2</td>\n",
       "      <td>1</td>\n",
       "      <td>2000-07-29</td>\n",
       "      <td>16h00</td>\n",
       "      <td>Sábado</td>\n",
       "      <td>Vasco</td>\n",
       "      <td>Sport</td>\n",
       "      <td>Sport</td>\n",
       "      <td>São Januário</td>\n",
       "      <td>0</td>\n",
       "      <td>2</td>\n",
       "      <td>RJ</td>\n",
       "      <td>PE</td>\n",
       "      <td>PE</td>\n",
       "    </tr>\n",
       "    <tr>\n",
       "      <th>2</th>\n",
       "      <td>3</td>\n",
       "      <td>1</td>\n",
       "      <td>2000-07-29</td>\n",
       "      <td>16h00</td>\n",
       "      <td>Sábado</td>\n",
       "      <td>Vitória</td>\n",
       "      <td>Palmeiras</td>\n",
       "      <td>Vitória</td>\n",
       "      <td>Barradão</td>\n",
       "      <td>4</td>\n",
       "      <td>1</td>\n",
       "      <td>ES</td>\n",
       "      <td>SP</td>\n",
       "      <td>ES</td>\n",
       "    </tr>\n",
       "    <tr>\n",
       "      <th>3</th>\n",
       "      <td>4</td>\n",
       "      <td>1</td>\n",
       "      <td>2000-07-30</td>\n",
       "      <td>17h00</td>\n",
       "      <td>Domingo</td>\n",
       "      <td>Botafogo-RJ</td>\n",
       "      <td>Atlético-MG</td>\n",
       "      <td>-</td>\n",
       "      <td>Caio Martins</td>\n",
       "      <td>0</td>\n",
       "      <td>0</td>\n",
       "      <td>RJ</td>\n",
       "      <td>MG</td>\n",
       "      <td>-</td>\n",
       "    </tr>\n",
       "    <tr>\n",
       "      <th>4</th>\n",
       "      <td>5</td>\n",
       "      <td>1</td>\n",
       "      <td>2000-07-30</td>\n",
       "      <td>18h30</td>\n",
       "      <td>Domingo</td>\n",
       "      <td>Juventude</td>\n",
       "      <td>Flamengo</td>\n",
       "      <td>-</td>\n",
       "      <td>Alfredo Jaconi</td>\n",
       "      <td>1</td>\n",
       "      <td>1</td>\n",
       "      <td>RS</td>\n",
       "      <td>RJ</td>\n",
       "      <td>-</td>\n",
       "    </tr>\n",
       "  </tbody>\n",
       "</table>\n",
       "</div>"
      ],
      "text/plain": [
       "   ID Rodada        Data Horário      Dia     Mandante    Visitante  \\\n",
       "0   1      1  2000-07-29   16h00   Sábado   Fluminense        Bahia   \n",
       "1   2      1  2000-07-29   16h00   Sábado        Vasco        Sport   \n",
       "2   3      1  2000-07-29   16h00   Sábado      Vitória    Palmeiras   \n",
       "3   4      1  2000-07-30   17h00  Domingo  Botafogo-RJ  Atlético-MG   \n",
       "4   5      1  2000-07-30   18h30  Domingo    Juventude     Flamengo   \n",
       "\n",
       "     Vencedor           Arena  Mandante Placar  Visitante Placar  \\\n",
       "0  Fluminense        Maracanã                2                 0   \n",
       "1       Sport    São Januário                0                 2   \n",
       "2     Vitória        Barradão                4                 1   \n",
       "3           -    Caio Martins                0                 0   \n",
       "4           -  Alfredo Jaconi                1                 1   \n",
       "\n",
       "  Estado Mandante Estado Visitante Estado Vencedor  \n",
       "0              RJ               BA              RJ  \n",
       "1              RJ               PE              PE  \n",
       "2              ES               SP              ES  \n",
       "3              RJ               MG               -  \n",
       "4              RS               RJ               -  "
      ]
     },
     "execution_count": 13,
     "metadata": {},
     "output_type": "execute_result"
    }
   ],
   "source": [
    "df.head()"
   ]
  },
  {
   "cell_type": "code",
   "execution_count": 15,
   "id": "ae890e2e",
   "metadata": {},
   "outputs": [],
   "source": [
    "# Copia 10 Linhas da coluna 'Arena'\n",
    "arenas = df.loc[:10, \"Arena\"].copy()"
   ]
  },
  {
   "cell_type": "code",
   "execution_count": 16,
   "id": "5f53b286",
   "metadata": {},
   "outputs": [
    {
     "data": {
      "text/plain": [
       "0           Maracanã\n",
       "1       São Januário\n",
       "2           Barradão\n",
       "3       Caio Martins\n",
       "4     Alfredo Jaconi\n",
       "5     Brinco de Ouro\n",
       "6           Mineirão\n",
       "7      Independência\n",
       "8      Serra Dourada\n",
       "9      Couto Pereira\n",
       "10        Fonte Nova\n",
       "Name: Arena, dtype: object"
      ]
     },
     "execution_count": 16,
     "metadata": {},
     "output_type": "execute_result"
    }
   ],
   "source": [
    "arenas"
   ]
  },
  {
   "cell_type": "code",
   "execution_count": 19,
   "id": "314872d2",
   "metadata": {
    "scrolled": true
   },
   "outputs": [
    {
     "name": "stdout",
     "output_type": "stream",
     "text": [
      "<class 'pandas.core.frame.DataFrame'>\n",
      "RangeIndex: 8319 entries, 0 to 8318\n",
      "Data columns (total 14 columns):\n",
      " #   Column            Non-Null Count  Dtype \n",
      "---  ------            --------------  ----- \n",
      " 0   ID                8319 non-null   int64 \n",
      " 1   Rodada            8319 non-null   object\n",
      " 2   Data              8319 non-null   object\n",
      " 3   Horário           7962 non-null   object\n",
      " 4   Dia               8319 non-null   object\n",
      " 5   Mandante          8319 non-null   object\n",
      " 6   Visitante         8319 non-null   object\n",
      " 7   Vencedor          8319 non-null   object\n",
      " 8   Arena             8319 non-null   object\n",
      " 9   Mandante Placar   8319 non-null   int64 \n",
      " 10  Visitante Placar  8319 non-null   int64 \n",
      " 11  Estado Mandante   8319 non-null   object\n",
      " 12  Estado Visitante  8319 non-null   object\n",
      " 13  Estado Vencedor   8319 non-null   object\n",
      "dtypes: int64(3), object(11)\n",
      "memory usage: 910.0+ KB\n"
     ]
    }
   ],
   "source": [
    "df.info()"
   ]
  },
  {
   "cell_type": "code",
   "execution_count": 20,
   "id": "e9f97a15",
   "metadata": {},
   "outputs": [
    {
     "data": {
      "text/plain": [
       "dtype('O')"
      ]
     },
     "execution_count": 20,
     "metadata": {},
     "output_type": "execute_result"
    }
   ],
   "source": [
    "# Mostra que é do tipo 'O' ou Object , assim como mostrado no .info()\n",
    "arenas.dtypes"
   ]
  },
  {
   "cell_type": "code",
   "execution_count": 21,
   "id": "114a9431",
   "metadata": {},
   "outputs": [
    {
     "data": {
      "text/plain": [
       "'Maracanã'"
      ]
     },
     "execution_count": 21,
     "metadata": {},
     "output_type": "execute_result"
    }
   ],
   "source": [
    "# Elemento ou Linha Zero:\n",
    "arenas[0]"
   ]
  },
  {
   "cell_type": "code",
   "execution_count": 23,
   "id": "1bc60799",
   "metadata": {},
   "outputs": [
    {
     "data": {
      "text/plain": [
       "str"
      ]
     },
     "execution_count": 23,
     "metadata": {},
     "output_type": "execute_result"
    }
   ],
   "source": [
    "# Mostra que a linha 1 \n",
    "type(arenas[1])"
   ]
  },
  {
   "cell_type": "code",
   "execution_count": 25,
   "id": "1473a809",
   "metadata": {},
   "outputs": [
    {
     "data": {
      "text/plain": [
       "0           MARACANÃ\n",
       "1       SÃO JANUÁRIO\n",
       "2           BARRADÃO\n",
       "3       CAIO MARTINS\n",
       "4     ALFREDO JACONI\n",
       "5     BRINCO DE OURO\n",
       "6           MINEIRÃO\n",
       "7      INDEPENDÊNCIA\n",
       "8      SERRA DOURADA\n",
       "9      COUTO PEREIRA\n",
       "10        FONTE NOVA\n",
       "Name: Arena, dtype: object"
      ]
     },
     "execution_count": 25,
     "metadata": {},
     "output_type": "execute_result"
    }
   ],
   "source": [
    "# Aplicando metodos nas Strings da tabela:\n",
    "\n",
    "#arenas.str.lower()\n",
    "arenas.str.upper()"
   ]
  },
  {
   "cell_type": "code",
   "execution_count": 26,
   "id": "dc04df85",
   "metadata": {},
   "outputs": [
    {
     "data": {
      "text/plain": [
       "0                        Maracanã\n",
       "1                    São Januário\n",
       "2                        Barradão\n",
       "3                    Caio Martins\n",
       "4                  Alfredo Jaconi\n",
       "                  ...            \n",
       "8314                    Beira Rio\n",
       "8315    Itaipava Arena Fonte Nova\n",
       "8316             Arena da Baixada\n",
       "8317                     Castelão\n",
       "8318              Antônio Accioly\n",
       "Name: Arena, Length: 8319, dtype: object"
      ]
     },
     "execution_count": 26,
     "metadata": {},
     "output_type": "execute_result"
    }
   ],
   "source": [
    "# Pegando apenas a coluna 'Arena' do DataFrame Todo:\n",
    "df.Arena"
   ]
  },
  {
   "cell_type": "code",
   "execution_count": 27,
   "id": "aca93764",
   "metadata": {},
   "outputs": [
    {
     "data": {
      "text/plain": [
       "0                           [Maracanã]\n",
       "1                      [São, Januário]\n",
       "2                           [Barradão]\n",
       "3                      [Caio, Martins]\n",
       "4                    [Alfredo, Jaconi]\n",
       "                     ...              \n",
       "8314                      [Beira, Rio]\n",
       "8315    [Itaipava, Arena, Fonte, Nova]\n",
       "8316              [Arena, da, Baixada]\n",
       "8317                        [Castelão]\n",
       "8318                [Antônio, Accioly]\n",
       "Name: Arena, Length: 8319, dtype: object"
      ]
     },
     "execution_count": 27,
     "metadata": {},
     "output_type": "execute_result"
    }
   ],
   "source": [
    "# Quebre em Duas ou use uma virgula quando encontrar um espaço vazio:\n",
    "df.Arena.str.split(\" \")"
   ]
  },
  {
   "cell_type": "code",
   "execution_count": 28,
   "id": "ac16ccaa",
   "metadata": {},
   "outputs": [
    {
     "data": {
      "text/plain": [
       "0              [Sábado]\n",
       "1              [Sábado]\n",
       "2              [Sábado]\n",
       "3             [Domingo]\n",
       "4             [Domingo]\n",
       "             ...       \n",
       "8314    [Quinta, Feira]\n",
       "8315    [Quinta, Feira]\n",
       "8316    [Quinta, Feira]\n",
       "8317    [Quinta, Feira]\n",
       "8318    [Quinta, Feira]\n",
       "Name: Dia, Length: 8319, dtype: object"
      ]
     },
     "execution_count": 28,
     "metadata": {},
     "output_type": "execute_result"
    }
   ],
   "source": [
    "# Substitui '-' por uma virgula \",\"\n",
    "df.Dia.str.split(\"-\")"
   ]
  },
  {
   "cell_type": "code",
   "execution_count": 29,
   "id": "9cd6bff4",
   "metadata": {},
   "outputs": [
    {
     "data": {
      "text/html": [
       "<div>\n",
       "<style scoped>\n",
       "    .dataframe tbody tr th:only-of-type {\n",
       "        vertical-align: middle;\n",
       "    }\n",
       "\n",
       "    .dataframe tbody tr th {\n",
       "        vertical-align: top;\n",
       "    }\n",
       "\n",
       "    .dataframe thead th {\n",
       "        text-align: right;\n",
       "    }\n",
       "</style>\n",
       "<table border=\"1\" class=\"dataframe\">\n",
       "  <thead>\n",
       "    <tr style=\"text-align: right;\">\n",
       "      <th></th>\n",
       "      <th>ID</th>\n",
       "      <th>Rodada</th>\n",
       "      <th>Data</th>\n",
       "      <th>Horário</th>\n",
       "      <th>Dia</th>\n",
       "      <th>Mandante</th>\n",
       "      <th>Visitante</th>\n",
       "      <th>Vencedor</th>\n",
       "      <th>Arena</th>\n",
       "      <th>Mandante Placar</th>\n",
       "      <th>Visitante Placar</th>\n",
       "      <th>Estado Mandante</th>\n",
       "      <th>Estado Visitante</th>\n",
       "      <th>Estado Vencedor</th>\n",
       "    </tr>\n",
       "  </thead>\n",
       "  <tbody>\n",
       "    <tr>\n",
       "      <th>1</th>\n",
       "      <td>2</td>\n",
       "      <td>1</td>\n",
       "      <td>2000-07-29</td>\n",
       "      <td>16h00</td>\n",
       "      <td>Sábado</td>\n",
       "      <td>Vasco</td>\n",
       "      <td>Sport</td>\n",
       "      <td>Sport</td>\n",
       "      <td>São Januário</td>\n",
       "      <td>0</td>\n",
       "      <td>2</td>\n",
       "      <td>RJ</td>\n",
       "      <td>PE</td>\n",
       "      <td>PE</td>\n",
       "    </tr>\n",
       "    <tr>\n",
       "      <th>21</th>\n",
       "      <td>22</td>\n",
       "      <td>3</td>\n",
       "      <td>2000-08-06</td>\n",
       "      <td>17h00</td>\n",
       "      <td>Domingo</td>\n",
       "      <td>Vasco</td>\n",
       "      <td>Cruzeiro</td>\n",
       "      <td>-</td>\n",
       "      <td>São Januário</td>\n",
       "      <td>3</td>\n",
       "      <td>3</td>\n",
       "      <td>RJ</td>\n",
       "      <td>MG</td>\n",
       "      <td>-</td>\n",
       "    </tr>\n",
       "    <tr>\n",
       "      <th>37</th>\n",
       "      <td>38</td>\n",
       "      <td>5</td>\n",
       "      <td>2000-08-11</td>\n",
       "      <td>20h30</td>\n",
       "      <td>Sexta-feira</td>\n",
       "      <td>Vasco</td>\n",
       "      <td>Corinthians</td>\n",
       "      <td>Vasco</td>\n",
       "      <td>São Januário</td>\n",
       "      <td>1</td>\n",
       "      <td>0</td>\n",
       "      <td>RJ</td>\n",
       "      <td>SP</td>\n",
       "      <td>RJ</td>\n",
       "    </tr>\n",
       "    <tr>\n",
       "      <th>68</th>\n",
       "      <td>69</td>\n",
       "      <td>8</td>\n",
       "      <td>2000-08-20</td>\n",
       "      <td>17h00</td>\n",
       "      <td>Domingo</td>\n",
       "      <td>Vasco</td>\n",
       "      <td>Ponte Preta</td>\n",
       "      <td>Vasco</td>\n",
       "      <td>São Januário</td>\n",
       "      <td>2</td>\n",
       "      <td>1</td>\n",
       "      <td>RJ</td>\n",
       "      <td>SP</td>\n",
       "      <td>RJ</td>\n",
       "    </tr>\n",
       "    <tr>\n",
       "      <th>102</th>\n",
       "      <td>103</td>\n",
       "      <td>13</td>\n",
       "      <td>2000-09-05</td>\n",
       "      <td>20h30</td>\n",
       "      <td>Terça-feira</td>\n",
       "      <td>Vasco</td>\n",
       "      <td>Athlético-PR</td>\n",
       "      <td>-</td>\n",
       "      <td>São Januário</td>\n",
       "      <td>2</td>\n",
       "      <td>2</td>\n",
       "      <td>RJ</td>\n",
       "      <td>PR</td>\n",
       "      <td>-</td>\n",
       "    </tr>\n",
       "    <tr>\n",
       "      <th>...</th>\n",
       "      <td>...</td>\n",
       "      <td>...</td>\n",
       "      <td>...</td>\n",
       "      <td>...</td>\n",
       "      <td>...</td>\n",
       "      <td>...</td>\n",
       "      <td>...</td>\n",
       "      <td>...</td>\n",
       "      <td>...</td>\n",
       "      <td>...</td>\n",
       "      <td>...</td>\n",
       "      <td>...</td>\n",
       "      <td>...</td>\n",
       "      <td>...</td>\n",
       "    </tr>\n",
       "    <tr>\n",
       "      <th>8250</th>\n",
       "      <td>8251</td>\n",
       "      <td>32</td>\n",
       "      <td>2021-01-23</td>\n",
       "      <td>21:00</td>\n",
       "      <td>Sábado</td>\n",
       "      <td>Vasco</td>\n",
       "      <td>Atlético-MG</td>\n",
       "      <td>Vasco</td>\n",
       "      <td>São Januário</td>\n",
       "      <td>3</td>\n",
       "      <td>2</td>\n",
       "      <td>RJ</td>\n",
       "      <td>MG</td>\n",
       "      <td>RJ</td>\n",
       "    </tr>\n",
       "    <tr>\n",
       "      <th>8257</th>\n",
       "      <td>8258</td>\n",
       "      <td>32</td>\n",
       "      <td>2021-01-24</td>\n",
       "      <td>20:30</td>\n",
       "      <td>Domingo</td>\n",
       "      <td>Fluminense</td>\n",
       "      <td>Botafogo-RJ</td>\n",
       "      <td>Fluminense</td>\n",
       "      <td>São Januário</td>\n",
       "      <td>2</td>\n",
       "      <td>0</td>\n",
       "      <td>RJ</td>\n",
       "      <td>RJ</td>\n",
       "      <td>RJ</td>\n",
       "    </tr>\n",
       "    <tr>\n",
       "      <th>8259</th>\n",
       "      <td>8260</td>\n",
       "      <td>33</td>\n",
       "      <td>2021-01-31</td>\n",
       "      <td>16:00</td>\n",
       "      <td>Domingo</td>\n",
       "      <td>Vasco</td>\n",
       "      <td>Bahia</td>\n",
       "      <td>-</td>\n",
       "      <td>São Januário</td>\n",
       "      <td>0</td>\n",
       "      <td>0</td>\n",
       "      <td>RJ</td>\n",
       "      <td>BA</td>\n",
       "      <td>-</td>\n",
       "    </tr>\n",
       "    <tr>\n",
       "      <th>8293</th>\n",
       "      <td>8294</td>\n",
       "      <td>36</td>\n",
       "      <td>2021-02-14</td>\n",
       "      <td>16:00</td>\n",
       "      <td>Domingo</td>\n",
       "      <td>Vasco</td>\n",
       "      <td>Internacional</td>\n",
       "      <td>Internacional</td>\n",
       "      <td>São Januário</td>\n",
       "      <td>0</td>\n",
       "      <td>2</td>\n",
       "      <td>RJ</td>\n",
       "      <td>RS</td>\n",
       "      <td>RS</td>\n",
       "    </tr>\n",
       "    <tr>\n",
       "      <th>8310</th>\n",
       "      <td>8311</td>\n",
       "      <td>38</td>\n",
       "      <td>2021-02-25</td>\n",
       "      <td>21:30</td>\n",
       "      <td>Quinta-Feira</td>\n",
       "      <td>Vasco</td>\n",
       "      <td>Goiás</td>\n",
       "      <td>Vasco</td>\n",
       "      <td>São Januário</td>\n",
       "      <td>3</td>\n",
       "      <td>2</td>\n",
       "      <td>RJ</td>\n",
       "      <td>GO</td>\n",
       "      <td>RJ</td>\n",
       "    </tr>\n",
       "  </tbody>\n",
       "</table>\n",
       "<p>279 rows × 14 columns</p>\n",
       "</div>"
      ],
      "text/plain": [
       "        ID Rodada        Data Horário           Dia    Mandante  \\\n",
       "1        2      1  2000-07-29   16h00        Sábado       Vasco   \n",
       "21      22      3  2000-08-06   17h00       Domingo       Vasco   \n",
       "37      38      5  2000-08-11   20h30   Sexta-feira       Vasco   \n",
       "68      69      8  2000-08-20   17h00       Domingo       Vasco   \n",
       "102    103     13  2000-09-05   20h30   Terça-feira       Vasco   \n",
       "...    ...    ...         ...     ...           ...         ...   \n",
       "8250  8251     32  2021-01-23   21:00        Sábado       Vasco   \n",
       "8257  8258     32  2021-01-24   20:30       Domingo  Fluminense   \n",
       "8259  8260     33  2021-01-31   16:00       Domingo       Vasco   \n",
       "8293  8294     36  2021-02-14   16:00       Domingo       Vasco   \n",
       "8310  8311     38  2021-02-25   21:30  Quinta-Feira       Vasco   \n",
       "\n",
       "          Visitante       Vencedor         Arena  Mandante Placar  \\\n",
       "1             Sport          Sport  São Januário                0   \n",
       "21         Cruzeiro              -  São Januário                3   \n",
       "37      Corinthians          Vasco  São Januário                1   \n",
       "68      Ponte Preta          Vasco  São Januário                2   \n",
       "102    Athlético-PR              -  São Januário                2   \n",
       "...             ...            ...           ...              ...   \n",
       "8250    Atlético-MG          Vasco  São Januário                3   \n",
       "8257    Botafogo-RJ     Fluminense  São Januário                2   \n",
       "8259          Bahia              -  São Januário                0   \n",
       "8293  Internacional  Internacional  São Januário                0   \n",
       "8310          Goiás          Vasco  São Januário                3   \n",
       "\n",
       "      Visitante Placar Estado Mandante Estado Visitante Estado Vencedor  \n",
       "1                    2              RJ               PE              PE  \n",
       "21                   3              RJ               MG               -  \n",
       "37                   0              RJ               SP              RJ  \n",
       "68                   1              RJ               SP              RJ  \n",
       "102                  2              RJ               PR               -  \n",
       "...                ...             ...              ...             ...  \n",
       "8250                 2              RJ               MG              RJ  \n",
       "8257                 0              RJ               RJ              RJ  \n",
       "8259                 0              RJ               BA               -  \n",
       "8293                 2              RJ               RS              RS  \n",
       "8310                 2              RJ               GO              RJ  \n",
       "\n",
       "[279 rows x 14 columns]"
      ]
     },
     "execution_count": 29,
     "metadata": {},
     "output_type": "execute_result"
    }
   ],
   "source": [
    "# METODO 'FIND' / SEARCH OU, COMO LOCALIZAR PALAVRAS DENTRO DOS DATAFRAMES:\n",
    "\n",
    "# Todas as linhas da coluna Arena que contenham a String 'São'\n",
    "df[df.Arena.str.contains(\"São\")]"
   ]
  },
  {
   "cell_type": "code",
   "execution_count": 1,
   "id": "f0dc34e8",
   "metadata": {},
   "outputs": [],
   "source": [
    "import re"
   ]
  },
  {
   "cell_type": "code",
   "execution_count": 12,
   "id": "ae086b1e",
   "metadata": {},
   "outputs": [
    {
     "name": "stdout",
     "output_type": "stream",
     "text": [
      "[True]\n"
     ]
    }
   ],
   "source": [
    "re_examples = [\n",
    "# All of these are True, because 'cat' doesn't start with 'a'\n",
    "not re.match(\"a\", 'Cat')]\n",
    "\n",
    "# df[df.Arena.str]\n",
    "\n",
    "print(re_examples)"
   ]
  },
  {
   "cell_type": "code",
   "execution_count": null,
   "id": "eabc7111",
   "metadata": {},
   "outputs": [],
   "source": []
  },
  {
   "cell_type": "code",
   "execution_count": null,
   "id": "c5c1026c",
   "metadata": {},
   "outputs": [],
   "source": []
  }
 ],
 "metadata": {
  "kernelspec": {
   "display_name": "Python 3 (ipykernel)",
   "language": "python",
   "name": "python3"
  },
  "language_info": {
   "codemirror_mode": {
    "name": "ipython",
    "version": 3
   },
   "file_extension": ".py",
   "mimetype": "text/x-python",
   "name": "python",
   "nbconvert_exporter": "python",
   "pygments_lexer": "ipython3",
   "version": "3.9.12"
  }
 },
 "nbformat": 4,
 "nbformat_minor": 5
}
