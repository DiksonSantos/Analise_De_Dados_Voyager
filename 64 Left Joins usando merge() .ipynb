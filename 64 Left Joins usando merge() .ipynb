{
 "cells": [
  {
   "cell_type": "markdown",
   "id": "c53f0b72",
   "metadata": {},
   "source": [
    "### DOCUMENTAÇÃO:\n",
    "https://pandas.pydata.org/pandas-docs/stable/reference/api/pandas.DataFrame.merge.html"
   ]
  },
  {
   "cell_type": "code",
   "execution_count": 1,
   "id": "f5234eb1",
   "metadata": {},
   "outputs": [],
   "source": [
    "import pandas as pd"
   ]
  },
  {
   "cell_type": "code",
   "execution_count": 2,
   "id": "36bea8cf",
   "metadata": {},
   "outputs": [],
   "source": [
    "df_2008 = pd.read_csv('ath_2008.csv')"
   ]
  },
  {
   "cell_type": "code",
   "execution_count": 3,
   "id": "2daece70",
   "metadata": {},
   "outputs": [],
   "source": [
    "df_2012 = pd.read_csv('ath_2012.csv')"
   ]
  },
  {
   "cell_type": "code",
   "execution_count": 8,
   "id": "6ef88741",
   "metadata": {},
   "outputs": [],
   "source": [
    "# Pegar as infs do Primeiro DF (2008) e os dados Correlatos á 2008 em 2012\n",
    "\n",
    "# 2008 == Conj_A\n",
    "# 2012 == Conj_B\n",
    "# HOW = Left -> Pegar dados existentes na Col Athlete do 'Conj_A'\n",
    "# suffixes -> Indica a fonte (DF) dos dados mostrados\n",
    "# indicator -> Mostra ou não uma coluna \"_merge\" a qual indica a origem dos dados nas linhas\n",
    "df_left = df_2008.merge(df_2012, how=\"left\", on='Athlete', suffixes=('_2008','_2012'), indicator=True)"
   ]
  },
  {
   "cell_type": "code",
   "execution_count": 11,
   "id": "0ef6ad85",
   "metadata": {},
   "outputs": [
    {
     "data": {
      "text/plain": [
       "left_only     127\n",
       "both           32\n",
       "right_only      0\n",
       "Name: _merge, dtype: int64"
      ]
     },
     "execution_count": 11,
     "metadata": {},
     "output_type": "execute_result"
    }
   ],
   "source": [
    "# AGORA CONTAREMOS OS DADOS NA COLUNA '_merge' QUE INDICA A ORIGEM DOS \n",
    "#.. DADOS DE ACORDO COM O DF.\n",
    "\n",
    "df_left._merge.value_counts()\n",
    "\n",
    "# 127 são do DF 2008. 32 estão em ambos os DFs ..."
   ]
  },
  {
   "cell_type": "code",
   "execution_count": null,
   "id": "9e6d13c7",
   "metadata": {},
   "outputs": [],
   "source": []
  }
 ],
 "metadata": {
  "kernelspec": {
   "display_name": "Python 3 (ipykernel)",
   "language": "python",
   "name": "python3"
  },
  "language_info": {
   "codemirror_mode": {
    "name": "ipython",
    "version": 3
   },
   "file_extension": ".py",
   "mimetype": "text/x-python",
   "name": "python",
   "nbconvert_exporter": "python",
   "pygments_lexer": "ipython3",
   "version": "3.9.13"
  }
 },
 "nbformat": 4,
 "nbformat_minor": 5
}
