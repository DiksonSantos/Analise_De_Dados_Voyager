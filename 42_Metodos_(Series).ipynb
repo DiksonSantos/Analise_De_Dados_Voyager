{
 "cells": [
  {
   "cell_type": "code",
   "execution_count": 2,
   "id": "d71aebbd",
   "metadata": {},
   "outputs": [],
   "source": [
    "import pandas as pd\n",
    "import warnings\n",
    "warnings.filterwarnings('ignore')"
   ]
  },
  {
   "cell_type": "code",
   "execution_count": 4,
   "id": "ad8fcad3",
   "metadata": {},
   "outputs": [],
   "source": [
    "dicio = {1:100, 2:233, 3:321, 4:4, 5:11, 6:None}"
   ]
  },
  {
   "cell_type": "code",
   "execution_count": 6,
   "id": "cdea3a85",
   "metadata": {},
   "outputs": [],
   "source": [
    "serie_dic = pd.Series(dicio)"
   ]
  },
  {
   "cell_type": "code",
   "execution_count": 7,
   "id": "60baaebd",
   "metadata": {},
   "outputs": [
    {
     "data": {
      "text/plain": [
       "1    100.0\n",
       "2    233.0\n",
       "3    321.0\n",
       "4      4.0\n",
       "5     11.0\n",
       "6      NaN\n",
       "dtype: float64"
      ]
     },
     "execution_count": 7,
     "metadata": {},
     "output_type": "execute_result"
    }
   ],
   "source": [
    "serie_dic"
   ]
  },
  {
   "cell_type": "code",
   "execution_count": 8,
   "id": "9b7c100c",
   "metadata": {},
   "outputs": [
    {
     "data": {
      "text/plain": [
       "1    100.0\n",
       "2    233.0\n",
       "3    321.0\n",
       "4      4.0\n",
       "5     11.0\n",
       "6      NaN\n",
       "dtype: float64"
      ]
     },
     "execution_count": 8,
     "metadata": {},
     "output_type": "execute_result"
    }
   ],
   "source": [
    "# Ascendente de cima pra baixo\n",
    "serie_dic.sort_index(ascending=True)"
   ]
  },
  {
   "cell_type": "code",
   "execution_count": 12,
   "id": "98227ddf",
   "metadata": {},
   "outputs": [
    {
     "data": {
      "text/plain": [
       "4      4.0\n",
       "5     11.0\n",
       "1    100.0\n",
       "2    233.0\n",
       "3    321.0\n",
       "6      NaN\n",
       "dtype: float64"
      ]
     },
     "execution_count": 12,
     "metadata": {},
     "output_type": "execute_result"
    }
   ],
   "source": [
    "# Caso não passe parametros \"ascending=True\" É o valor default\n",
    "# Aqui estamos lidando com os valores e não com os Indexes\n",
    "serie_dic.sort_values() "
   ]
  },
  {
   "cell_type": "code",
   "execution_count": 16,
   "id": "c9cd2c01",
   "metadata": {},
   "outputs": [
    {
     "data": {
      "text/plain": [
       "6      NaN\n",
       "3    321.0\n",
       "2    233.0\n",
       "1    100.0\n",
       "5     11.0\n",
       "4      4.0\n",
       "dtype: float64"
      ]
     },
     "execution_count": 16,
     "metadata": {},
     "output_type": "execute_result"
    }
   ],
   "source": [
    "# DEIXAR OS VALORES 'NA' NAS PRIMEIRAS POSIÇÕES\n",
    "serie_dic.sort_values(ascending=False, na_position=\"first\") # Ou 'last'"
   ]
  },
  {
   "cell_type": "code",
   "execution_count": 24,
   "id": "2825179e",
   "metadata": {},
   "outputs": [
    {
     "data": {
      "text/plain": [
       "4      4.0\n",
       "5     11.0\n",
       "1    100.0\n",
       "2    233.0\n",
       "3    321.0\n",
       "dtype: float64"
      ]
     },
     "execution_count": 24,
     "metadata": {},
     "output_type": "execute_result"
    }
   ],
   "source": [
    "# SLICING USANDO ILOC, DO MENOR PARA O MAIOR:\n",
    "serie_dic.sort_values(ascending=True).iloc[:5]"
   ]
  },
  {
   "cell_type": "code",
   "execution_count": 18,
   "id": "61719281",
   "metadata": {},
   "outputs": [
    {
     "data": {
      "text/plain": [
       "3    321.0\n",
       "2    233.0\n",
       "1    100.0\n",
       "dtype: float64"
      ]
     },
     "execution_count": 18,
     "metadata": {},
     "output_type": "execute_result"
    }
   ],
   "source": [
    "# APENAS OS 3 MAIORES VALORES:\n",
    "serie_dic.nlargest(n=3)"
   ]
  },
  {
   "cell_type": "code",
   "execution_count": 21,
   "id": "d22aeba7",
   "metadata": {},
   "outputs": [
    {
     "data": {
      "text/plain": [
       "4     4.0\n",
       "5    11.0\n",
       "dtype: float64"
      ]
     },
     "execution_count": 21,
     "metadata": {},
     "output_type": "execute_result"
    }
   ],
   "source": [
    "# APENAS OS MENORES VALORES\n",
    "serie_dic.nsmallest(n=2)"
   ]
  },
  {
   "cell_type": "code",
   "execution_count": 26,
   "id": "a8ebca1e",
   "metadata": {},
   "outputs": [
    {
     "data": {
      "text/plain": [
       "3"
      ]
     },
     "execution_count": 26,
     "metadata": {},
     "output_type": "execute_result"
    }
   ],
   "source": [
    "# APENAS a COLUNA 'ID' DO MAIOR VALOR, DA COLUNA RELACIONADA A ESTE 'ID'\n",
    "serie_dic.idxmax()"
   ]
  },
  {
   "cell_type": "code",
   "execution_count": 27,
   "id": "3c65bbc9",
   "metadata": {},
   "outputs": [
    {
     "data": {
      "text/plain": [
       "1    100.0\n",
       "2    233.0\n",
       "3    321.0\n",
       "4      4.0\n",
       "5     11.0\n",
       "dtype: float64"
      ]
     },
     "execution_count": 27,
     "metadata": {},
     "output_type": "execute_result"
    }
   ],
   "source": [
    "# CONFERINDO:\n",
    "serie_dic.head()"
   ]
  },
  {
   "cell_type": "code",
   "execution_count": 28,
   "id": "888ab398",
   "metadata": {},
   "outputs": [
    {
     "data": {
      "text/plain": [
       "4"
      ]
     },
     "execution_count": 28,
     "metadata": {},
     "output_type": "execute_result"
    }
   ],
   "source": [
    "#'ID' DA COLUNA RELACIONADA , COM O MENOR VALOR\n",
    "serie_dic.idxmin()"
   ]
  },
  {
   "cell_type": "code",
   "execution_count": 29,
   "id": "d3b421c2",
   "metadata": {},
   "outputs": [
    {
     "data": {
      "text/plain": [
       "Int64Index([1, 2, 3, 4, 5, 6], dtype='int64')"
      ]
     },
     "execution_count": 29,
     "metadata": {},
     "output_type": "execute_result"
    }
   ],
   "source": [
    "# MOSTRA TODOS OS INDEXES DA SERIE\n",
    "serie_dic.index"
   ]
  },
  {
   "cell_type": "code",
   "execution_count": null,
   "id": "e79b48b5",
   "metadata": {},
   "outputs": [],
   "source": []
  }
 ],
 "metadata": {
  "kernelspec": {
   "display_name": "Python 3 (ipykernel)",
   "language": "python",
   "name": "python3"
  },
  "language_info": {
   "codemirror_mode": {
    "name": "ipython",
    "version": 3
   },
   "file_extension": ".py",
   "mimetype": "text/x-python",
   "name": "python",
   "nbconvert_exporter": "python",
   "pygments_lexer": "ipython3",
   "version": "3.9.12"
  }
 },
 "nbformat": 4,
 "nbformat_minor": 5
}
